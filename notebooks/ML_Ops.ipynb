{
 "cells": [
  {
   "cell_type": "markdown",
   "source": [
    "# DS ML API Operations Engineer (ML Ops)\n",
    "Understand the trade-offs involved in building end-to-end solutions for continuous API deployment at scale. Ability to understand product requirements and prototype quick solutions, potentially with mock data. Ability to build and design a codebase suitable for machine learning in a reusable framework that is easy to extend and maintain. Strong Python skills will be extremely valuable as this role will create the glue that holds the app together.\n",
    "\n",
    "- Solid Understanding of DS Unit 3\n",
    "    - Web App Platforms: FastAPI & Flask\n",
    "    - Web Data Interchange Format: JSON\n",
    "    - AWS Services: Elastic Beanstalk, S3, Route53\n",
    "- System Architecture Design\n",
    "    - Combine Components from the Data Engineer & ML Engineer\n",
    "    - Solid Design Principles results in Highly Maintainable Code\n",
    "    - Wrap the App in a Docker Image (only when needed)\n",
    "- Build a FastAPI Project\n",
    "    - API Design & Implementation\n",
    "    - HTTP Methods [GET, POST, PATCH, PUT, DELETE]\n",
    "    - Endpoint Design (naming is important)\n",
    "- Deploy to AWS Elastic Beanstalk\n",
    "    - Application Deployment\n",
    "    - Environment Variable Management\n",
    "    - SSL Certificate\n",
    "    - Debugging\n"
   ],
   "metadata": {
    "collapsed": false
   }
  },
  {
   "cell_type": "markdown",
   "source": [
    "See the `api.py` file in the app package."
   ],
   "metadata": {
    "collapsed": false
   }
  },
  {
   "cell_type": "code",
   "execution_count": null,
   "metadata": {
    "collapsed": true
   },
   "outputs": [],
   "source": []
  }
 ],
 "metadata": {
  "kernelspec": {
   "display_name": "Python 3",
   "language": "python",
   "name": "python3"
  },
  "language_info": {
   "codemirror_mode": {
    "name": "ipython",
    "version": 2
   },
   "file_extension": ".py",
   "mimetype": "text/x-python",
   "name": "python",
   "nbconvert_exporter": "python",
   "pygments_lexer": "ipython2",
   "version": "2.7.6"
  }
 },
 "nbformat": 4,
 "nbformat_minor": 0
}