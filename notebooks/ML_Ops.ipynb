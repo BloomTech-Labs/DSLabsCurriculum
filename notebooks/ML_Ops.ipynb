{
 "cells": [
  {
   "cell_type": "markdown",
   "source": [
    "# DS ML API Operations Engineer (ML Ops)\n",
    "Understand the trade-offs involved in building end-to-end solutions for continuous API deployment at scale. Ability to understand product requirements and prototype quick solutions, potentially with mock data. Ability to build and design a codebase suitable for machine learning in a reusable framework that is easy to extend and maintain. Strong Python skills will be extremely valuable as this role will create the glue that holds the app together.\n",
    "\n",
    "- Solid Understanding of DS Unit 3\n",
    "    - Web App Platforms: FastAPI & Flask\n",
    "    - Web Data Interchange Format: JSON\n",
    "    - AWS Services: Elastic Beanstalk, S3, Route53\n",
    "- System Architecture Design\n",
    "    - Combine Components from the Data Engineer & ML Engineer\n",
    "    - Solid Design Principles results in Highly Maintainable Code\n",
    "    - Wrap the App in a Docker Image (only when needed)\n",
    "- Build a FastAPI Project\n",
    "    - API Design & Implementation\n",
    "    - HTTP Methods [GET, POST, PATCH, PUT, DELETE]\n",
    "    - Endpoint Design (naming is important)\n",
    "- Deploy to AWS Elastic Beanstalk\n",
    "    - Application Deployment\n",
    "    - Environment Variable Management\n",
    "    - SSL Certificate\n",
    "    - Debugging\n",
    "- Integration Testing"
   ],
   "metadata": {
    "collapsed": false
   }
  },
  {
   "cell_type": "markdown",
   "source": [
    "## Systems Architecture Design\n",
    "- SOLID Principles for Maintainable Code\n",
    "- Best Practices: PEP8 Standard\n",
    "- Separation of Concerns\n",
    "- OOP - Object Oriented Programming\n",
    "    - Polymorphism: A core feature of OOP where one object type is designed to be interchangeable with another object type\n",
    "    - Encapsulation: A core feature of OOP where the implementation details are self contained and not exposed except through an interface\n",
    "    - Abstraction: A general solution. Typically, Abstractions employ Polymorphism and Encapsulation.\n"
   ],
   "metadata": {
    "collapsed": false
   }
  },
  {
   "cell_type": "markdown",
   "source": [
    "### API Frameworks for Python\n",
    "From simple to more complex...\n",
    "\n",
    "- AWS Lambda: Ultra Micro Service Framework\n",
    "    - Resource: [AWS Lambda](https://aws.amazon.com/lambda)\n",
    "    - Pros\n",
    "        - Highly Agile\n",
    "        - Encapsulation of a Singular Purpose\n",
    "    - Cons\n",
    "        - Encapsulation of a Singular Purpose\n",
    "        - Not suitable for complex projects\n",
    "- FastAPI: Micro Services Framework\n",
    "    - Resource: [FastAPI](https://fastapi.tiangolo.com)\n",
    "    - Pros\n",
    "        - Quick Setup\n",
    "        - Automatically transforms json to and from python types\n",
    "    - Cons\n",
    "        - Not suitable for portfolio apps (no frontend tools)\n",
    "- Flask: Modular Web Framework\n",
    "    - Resource: [Flask](https://flask.palletsprojects.com)\n",
    "    - Pros\n",
    "        - Perfect for Solo Projects\n",
    "        - Highly Flexible\n",
    "        - Extensible\n",
    "        - Large Support Community\n",
    "    - Cons\n",
    "        - None\n",
    "- Django: Fully Featured Web Framework\n",
    "    - Resource: [Django](https://www.djangoproject.com)\n",
    "    - Pros\n",
    "        - Fully Featured\n",
    "    - Cons\n",
    "        - Complexity: Barrier to Entry\n",
    "        - It's Django's Way or Nothing\n",
    "        - Annoying Learning Curve\n",
    "        - Old and Crusty"
   ],
   "metadata": {
    "collapsed": false
   }
  },
  {
   "cell_type": "markdown",
   "source": [
    "### Most FastAPI Apps begin much the same:"
   ],
   "metadata": {
    "collapsed": false
   }
  },
  {
   "cell_type": "code",
   "execution_count": 3,
   "metadata": {
    "collapsed": true
   },
   "outputs": [],
   "source": [
    "from fastapi import FastAPI\n",
    "from fastapi.middleware.cors import CORSMiddleware\n",
    "\n",
    "\n",
    "API = FastAPI(\n",
    "    title=\"Data Science API\",\n",
    "    version=\"0.0.1\",\n",
    "    docs_url=\"/\",\n",
    "    description=\"<h2>Full Description</h2>\",\n",
    ")\n",
    "API.add_middleware(\n",
    "    CORSMiddleware,\n",
    "    allow_origins=[\"*\"],\n",
    "    allow_credentials=True,\n",
    "    allow_methods=[\"*\"],\n",
    "    allow_headers=[\"*\"],\n",
    ")\n",
    "API.info = {\n",
    "    \"Platform\": \"FastAPI\",\n",
    "    \"Title\": API.title,\n",
    "    \"Version\": API.version,\n",
    "    \"Docs URL\": API.docs_url,\n",
    "}\n",
    "\n",
    "\n",
    "@API.get(\"/info\")\n",
    "async def info():\n",
    "    \"\"\" Returns json: API Info \"\"\"\n",
    "    return {\n",
    "        \"DS API\": API.info,\n",
    "    }\n"
   ]
  },
  {
   "cell_type": "markdown",
   "source": [
    "It's not a good idea to build APIs in notebooks. See the `api.py` file in the `app/` package for API code example."
   ],
   "metadata": {
    "collapsed": false
   }
  },
  {
   "cell_type": "markdown",
   "source": [
    "# API Design: Gud Naming is Hard!\n",
    "- API Endpoints are URLs that point to behavior\n",
    "- Micro-service API endpoints typically return json\n",
    "- Web API endpoints typically return rendered HTML\n",
    "- [HTTP Request Methods](https://www.w3schools.com/tags/ref_httpmethods.asp): Types of Endpoints\n",
    "    - GET\n",
    "    - PUT\n",
    "    - POST\n",
    "    - PATCH\n",
    "    - DELETE\n",
    "\n",
    "We will primarily use the GET and POST methods for Labs projects.\n",
    "\n",
    "The most important part of the API Engineering Role is the API contract! This is a team wide agreement about how to name endpoints. Don’t wait until the last minute to hash this out."
   ],
   "metadata": {
    "collapsed": false
   }
  },
  {
   "cell_type": "markdown",
   "source": [
    "# AWS Elastic Beanstalk Deployment\n",
    "We recommend coordinating with your manager to deploy the Labs app. Elastic Beanstalk is not a free service.\n",
    "\n",
    "### Install the awsebcli package\n",
    "- `pip install awsebcli`\n",
    "This should be done from the system level, not in the virtual environment. If you have multiple versions of Python3 installed, make sure to install awsebcli into the same version of Python you intend to use to make your virtual environment.\n",
    "\n",
    "### First Build\n",
    "This will step you through many options.\n",
    "```shell\n",
    "eb init\n",
    "eb create\n",
    "```\n",
    "\n",
    "### Subsequent Builds\n",
    "```shell\n",
    "eb deploy\n",
    "```\n",
    "\n",
    "### Open Remote Application\n",
    "```shell\n",
    "eb open\n",
    "```\n",
    "\n",
    "It is vitally important to commit to git BEFORE you create or deploy your app. AWS EB will push your most recent commit - and not your most recent uncommitted changes. This can trip you up very easily, and it’s not at all obvious that something went wrong."
   ],
   "metadata": {
    "collapsed": false
   }
  },
  {
   "cell_type": "markdown",
   "source": [
    "# Integration Testing\n",
    "See the API Integration Test video."
   ],
   "metadata": {
    "collapsed": false
   }
  },
  {
   "cell_type": "code",
   "execution_count": null,
   "outputs": [],
   "source": [],
   "metadata": {
    "collapsed": false,
    "pycharm": {
     "name": "#%%\n"
    }
   }
  }
 ],
 "metadata": {
  "kernelspec": {
   "display_name": "Python 3",
   "language": "python",
   "name": "python3"
  },
  "language_info": {
   "codemirror_mode": {
    "name": "ipython",
    "version": 2
   },
   "file_extension": ".py",
   "mimetype": "text/x-python",
   "name": "python",
   "nbconvert_exporter": "python",
   "pygments_lexer": "ipython2",
   "version": "2.7.6"
  }
 },
 "nbformat": 4,
 "nbformat_minor": 0
}