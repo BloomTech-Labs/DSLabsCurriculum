{
  "cells": [
    {
      "cell_type": "markdown",
      "source": [
        "# DS Data Engineer (Data Eng)\n",
        "\n",
        "### _Objectives_\n",
        "- Understand the data pipelines and business problems enough to be able to prescribe analytical solutions. \n",
        "- Apply a diverse set of tactics including statistics and quantitative reasoning to solve problems as well as research and produce relevant product insights. \n",
        "- Able to build ETL data pipelines and infrastructure to support Product and Data Science departments. \n",
        "- Ability to understand business requirements and come up with scalable engineering solutions for data storage and retrieval. \n",
        "- Understand and articulate data engineering and infrastructure decisions.  \n",
        "- Perform analyses of data trends to inform stakeholder's decisions using a variety of visualization tools. \n",
        "- Strong database and data visualization skills will be very valuable for this role.\n",
        "\n",
        "### _Foundational Skills_\n",
        "- Solid Understanding of DS Units 1 & 3\n",
        "    - Pandas\n",
        "    - Databases\n",
        "        - SQL (Postgresql)\n",
        "        - No-SQL (MongoDB)\n",
        "    - Graphing Libraries\n",
        "        - Matplotlib\n",
        "        - Plotly\n",
        "        - Seaborn\n",
        "        - Altair\n",
        "\n",
        "### _Skills to Strengthen_\n",
        "- Build a Database Interface: MongoDB\n",
        "    - Data Seeding: Mock Data\n",
        "    - Filters & Projections\n",
        "    - JSON Backup & Restore\n",
        "- Build a Data Visualization Component: Plotly\n",
        "    - Parameterized Abstraction Encapsulating Plotly\n"
      ],
      "metadata": {
        "collapsed": false,
        "id": "gw5FjKdjTzjl"
      }
    },
    {
      "cell_type": "code",
      "source": [
        "# First, we're going to pip install some dependencies\n",
        "%pip install colab-env\n",
        "%pip install pymongo[srv]\n",
        "%pip install MonsterLab"
      ],
      "metadata": {
        "colab": {
          "base_uri": "https://localhost:8080/"
        },
        "id": "lfs3t8273b8u",
        "outputId": "9dd39046-7375-464e-9456-93435b4844d9"
      },
      "execution_count": 1,
      "outputs": [
        {
          "output_type": "stream",
          "name": "stdout",
          "text": [
            "Collecting colab-env\n",
            "  Downloading colab-env-0.2.0.tar.gz (4.7 kB)\n",
            "Collecting python-dotenv<1.0,>=0.10.0\n",
            "  Downloading python_dotenv-0.20.0-py3-none-any.whl (17 kB)\n",
            "Building wheels for collected packages: colab-env\n",
            "  Building wheel for colab-env (setup.py) ... \u001b[?25l\u001b[?25hdone\n",
            "  Created wheel for colab-env: filename=colab_env-0.2.0-py3-none-any.whl size=3838 sha256=326b0a698ccd3bb4c7e6a9be6bb360ef59ca8a4ee403a6e7158fdffabbe570b1\n",
            "  Stored in directory: /root/.cache/pip/wheels/bb/ca/e8/3d25b6abb4ac719ecb9e837bb75f2a9b980430005fb12a9107\n",
            "Successfully built colab-env\n",
            "Installing collected packages: python-dotenv, colab-env\n",
            "Successfully installed colab-env-0.2.0 python-dotenv-0.20.0\n",
            "Requirement already satisfied: pymongo[srv] in /usr/local/lib/python3.7/dist-packages (4.0.2)\n",
            "Collecting dnspython<3.0.0,>=1.16.0\n",
            "  Downloading dnspython-2.2.1-py3-none-any.whl (269 kB)\n",
            "\u001b[K     |████████████████████████████████| 269 kB 6.1 MB/s \n",
            "\u001b[?25hInstalling collected packages: dnspython\n",
            "Successfully installed dnspython-2.2.1\n",
            "Collecting MonsterLab\n",
            "  Downloading MonsterLab-1.2.2-py3-none-any.whl (4.4 kB)\n",
            "Requirement already satisfied: pytz in /usr/local/lib/python3.7/dist-packages (from MonsterLab) (2018.9)\n",
            "Installing collected packages: MonsterLab\n",
            "Successfully installed MonsterLab-1.2.2\n"
          ]
        }
      ]
    },
    {
      "cell_type": "markdown",
      "source": [
        "# MongoDB Basics\n",
        "MongoDB Interface Class: see the `database.py` file in the `data_model` package"
      ],
      "metadata": {
        "collapsed": false,
        "id": "GC4djOfOTzjq"
      }
    },
    {
      "cell_type": "code",
      "execution_count": 2,
      "outputs": [],
      "source": [
        "import os\n",
        "import json\n",
        "from typing import Sequence\n",
        "\n",
        "from MonsterLab import Monster\n",
        "from pymongo import MongoClient\n",
        "from pandas import DataFrame\n",
        "from dotenv import load_dotenv\n",
        "import plotly.graph_objects as go\n",
        "import plotly.express as px"
      ],
      "metadata": {
        "pycharm": {
          "name": "#%%\n"
        },
        "id": "bnAWzh6fTzjq"
      }
    },
    {
      "cell_type": "markdown",
      "source": [
        "## Load the environment variables from `.env` file\n",
        "You should create your own `.env` file with the URL provided when you setup your Mongo account. See the `.env-example` file."
      ],
      "metadata": {
        "collapsed": false,
        "id": "hIV6t6LkTzjs"
      }
    },
    {
      "cell_type": "markdown",
      "source": [
        "### *Note* \n",
        "One way to import your ```.env``` file into Colab: \n",
        "- Click on the folder icon on the left panel. \n",
        "- Under the word \"Files\", click the page icon with an up arrow in it\n",
        "- find the text file you created containing your MONGODB_URL\n",
        "- Once the file is loaded, right-click the file and rename your file in Colab to ```.env```, this will cause the file to \"disappear\", this is normal and supposed to happen. \n",
        "- restart your runtime\n",
        "\n",
        "Now you're ready to move on. "
      ],
      "metadata": {
        "id": "1XpYCJifCazb"
      }
    },
    {
      "cell_type": "code",
      "execution_count": 3,
      "outputs": [
        {
          "output_type": "execute_result",
          "data": {
            "text/plain": [
              "True"
            ]
          },
          "metadata": {},
          "execution_count": 3
        }
      ],
      "source": [
        "load_dotenv()"
      ],
      "metadata": {
        "pycharm": {
          "name": "#%%\n"
        },
        "colab": {
          "base_uri": "https://localhost:8080/"
        },
        "id": "Cr73EFPyTzjs",
        "outputId": "f50c4327-316c-4c39-d9d1-e446bd0ab9a6"
      }
    },
    {
      "cell_type": "markdown",
      "source": [
        "## Connect to the database\n",
        "- URL: The URL given to us by MongoDB\n",
        "    - Example: `mongodb+srv://<USER>:<PASS>@<CLUSTER>.<PROJECT_UUID>.mongodb.net`\n",
        "- Database: This can be any name we like\n",
        "    - Example: `MonsterLab`\n",
        "- Collection: This can be any name we like\n",
        "    - Example: `Monsters`\n",
        "\n",
        "If we ever refer to a Database and/or Collection that doesn't exist, Mongo will create them for us as long as we have a Project setup and ready to go."
      ],
      "metadata": {
        "collapsed": false,
        "id": "AGWnd4lUTzjt"
      }
    },
    {
      "cell_type": "markdown",
      "source": [
        "### Connection Info"
      ],
      "metadata": {
        "collapsed": false,
        "id": "O1m1JcxYTzju"
      }
    },
    {
      "cell_type": "code",
      "execution_count": 4,
      "outputs": [],
      "source": [
        "url = os.getenv(\"MONGO_URL\")\n",
        "database = \"MonsterLab\"\n",
        "collection = \"Monsters\""
      ],
      "metadata": {
        "pycharm": {
          "name": "#%%\n"
        },
        "id": "D838j0A2Tzju"
      }
    },
    {
      "cell_type": "markdown",
      "source": [
        "### Instantiate the MongoClient with the connection info"
      ],
      "metadata": {
        "collapsed": false,
        "id": "4SetaY8XTzjv"
      }
    },
    {
      "cell_type": "code",
      "execution_count": 5,
      "outputs": [],
      "source": [
        "db = MongoClient(url)[database][collection]"
      ],
      "metadata": {
        "pycharm": {
          "name": "#%%\n"
        },
        "id": "GarPrL17Tzjv"
      }
    },
    {
      "cell_type": "markdown",
      "source": [
        "### Cleanup: Reset the collection by deleting all entries\n",
        "**This is not required if it is the first time connecting to this collection.**\n",
        "\n",
        "Passing an empty dictionary means delete all. If we only wanted to delete a subgroup we can pass a filter object instead. The filter needs to have one or more key/value pairs. See the section on Filters.\n",
        "\n",
        "\n",
        "Example:\n",
        "\n",
        "If you want to delete all Dragons:\n",
        "```\n",
        "db.delete_many({\"type\": \"Dragon\"})\n",
        "```"
      ],
      "metadata": {
        "collapsed": false,
        "id": "RUfRvrUsTzjw"
      }
    },
    {
      "cell_type": "markdown",
      "source": [
        "We are going to delete all entries, essentially resetting our collection."
      ],
      "metadata": {
        "id": "rdmjYygalUZd"
      }
    },
    {
      "cell_type": "code",
      "execution_count": 6,
      "outputs": [
        {
          "output_type": "execute_result",
          "data": {
            "text/plain": [
              "<pymongo.results.DeleteResult at 0x7f8f420309b0>"
            ]
          },
          "metadata": {},
          "execution_count": 6
        }
      ],
      "source": [
        "db.delete_many({})"
      ],
      "metadata": {
        "pycharm": {
          "name": "#%%\n"
        },
        "colab": {
          "base_uri": "https://localhost:8080/"
        },
        "id": "EYYyg6AvTzjw",
        "outputId": "3193a4f1-2008-464b-f9d8-b272fa0e2af1"
      }
    },
    {
      "cell_type": "markdown",
      "source": [
        "### Example Data Point: Monster"
      ],
      "metadata": {
        "collapsed": false,
        "id": "yxHUNOHMTzjx"
      }
    },
    {
      "cell_type": "code",
      "execution_count": 7,
      "outputs": [
        {
          "output_type": "execute_result",
          "data": {
            "text/plain": [
              "Name: Pit Lord\n",
              "Type: Devilkin\n",
              "Level: 9\n",
              "Rarity: Rank 1\n",
              "Damage: 9d4+1\n",
              "Health: 37.97\n",
              "Energy: 37.21\n",
              "Sanity: 35.9\n",
              "Time Stamp: 2022-04-07 08:05:25"
            ]
          },
          "metadata": {},
          "execution_count": 7
        }
      ],
      "source": [
        "monster = Monster()\n",
        "monster"
      ],
      "metadata": {
        "pycharm": {
          "name": "#%%\n"
        },
        "colab": {
          "base_uri": "https://localhost:8080/"
        },
        "id": "qeyttp59Tzjx",
        "outputId": "3701e4aa-8795-4845-8c17-b0e901ccae06"
      }
    },
    {
      "cell_type": "markdown",
      "source": [
        "### Convert the Monster class instance into a dictionary"
      ],
      "metadata": {
        "collapsed": false,
        "id": "eVTlc9IcTzjx"
      }
    },
    {
      "cell_type": "code",
      "execution_count": 8,
      "outputs": [
        {
          "output_type": "execute_result",
          "data": {
            "text/plain": [
              "{'damage': '9d4+1',\n",
              " 'energy': 37.21,\n",
              " 'health': 37.97,\n",
              " 'level': 9,\n",
              " 'name': 'Pit Lord',\n",
              " 'rarity': 'Rank 1',\n",
              " 'sanity': 35.9,\n",
              " 'time_stamp': '2022-04-07 08:05:25',\n",
              " 'type': 'Devilkin'}"
            ]
          },
          "metadata": {},
          "execution_count": 8
        }
      ],
      "source": [
        "monster_dict = vars(monster)\n",
        "monster_dict"
      ],
      "metadata": {
        "pycharm": {
          "name": "#%%\n"
        },
        "colab": {
          "base_uri": "https://localhost:8080/"
        },
        "id": "6Zvq2VOYTzjy",
        "outputId": "89de5767-9eb1-4291-cfa4-b90cebf1275d"
      }
    },
    {
      "cell_type": "markdown",
      "source": [
        "### Insert the Monster into the Monsters collection"
      ],
      "metadata": {
        "collapsed": false,
        "id": "_CZPRdvpTzjy"
      }
    },
    {
      "cell_type": "code",
      "execution_count": 9,
      "outputs": [
        {
          "output_type": "execute_result",
          "data": {
            "text/plain": [
              "<pymongo.results.InsertOneResult at 0x7f8f42047550>"
            ]
          },
          "metadata": {},
          "execution_count": 9
        }
      ],
      "source": [
        "db.insert_one(monster_dict)"
      ],
      "metadata": {
        "pycharm": {
          "name": "#%%\n"
        },
        "colab": {
          "base_uri": "https://localhost:8080/"
        },
        "id": "msJ7FkBBTzjy",
        "outputId": "887bfc23-7a24-4dbc-d388-52c4eae17b58"
      }
    },
    {
      "cell_type": "markdown",
      "source": [
        "### Find all data points in the Monsters collection\n",
        "Mongo returns an iterator, so we need to cast it to a list, or use it in a loop to print the data."
      ],
      "metadata": {
        "collapsed": false,
        "id": "U-Rlazp4Tzjy"
      }
    },
    {
      "cell_type": "code",
      "execution_count": 10,
      "outputs": [
        {
          "output_type": "execute_result",
          "data": {
            "text/plain": [
              "[{'_id': ObjectId('624efdb801cdd511e4c54b0c'),\n",
              "  'damage': '9d4+1',\n",
              "  'energy': 37.21,\n",
              "  'health': 37.97,\n",
              "  'level': 9,\n",
              "  'name': 'Pit Lord',\n",
              "  'rarity': 'Rank 1',\n",
              "  'sanity': 35.9,\n",
              "  'time_stamp': '2022-04-07 08:05:25',\n",
              "  'type': 'Devilkin'}]"
            ]
          },
          "metadata": {},
          "execution_count": 10
        }
      ],
      "source": [
        "# Cast to a list\n",
        "list(db.find())"
      ],
      "metadata": {
        "pycharm": {
          "name": "#%%\n"
        },
        "colab": {
          "base_uri": "https://localhost:8080/"
        },
        "id": "TINBYXtVTzjz",
        "outputId": "c780870c-b6aa-4244-e075-08afeae2666c"
      }
    },
    {
      "cell_type": "code",
      "execution_count": 11,
      "outputs": [
        {
          "output_type": "stream",
          "name": "stdout",
          "text": [
            "{'_id': ObjectId('624efdb801cdd511e4c54b0c'), 'type': 'Devilkin', 'name': 'Pit Lord', 'level': 9, 'rarity': 'Rank 1', 'damage': '9d4+1', 'time_stamp': '2022-04-07 08:05:25', 'health': 37.97, 'energy': 37.21, 'sanity': 35.9}\n"
          ]
        }
      ],
      "source": [
        "# Used in a loop\n",
        "for monster in db.find():\n",
        "    print(str(monster))"
      ],
      "metadata": {
        "pycharm": {
          "name": "#%%\n"
        },
        "colab": {
          "base_uri": "https://localhost:8080/"
        },
        "id": "vlZ0XGJ3Tzjz",
        "outputId": "86c3b6b5-6a73-4a8d-c60b-2ded6fe67dd6"
      }
    },
    {
      "cell_type": "markdown",
      "source": [
        "### Create Many Monsters"
      ],
      "metadata": {
        "collapsed": false,
        "id": "vJWMTP9PTzjz"
      }
    },
    {
      "cell_type": "code",
      "execution_count": 12,
      "outputs": [],
      "source": [
        "many_monsters = (vars(Monster()) for _ in range(999))"
      ],
      "metadata": {
        "pycharm": {
          "name": "#%%\n"
        },
        "id": "SqKSeC0DTzjz"
      }
    },
    {
      "cell_type": "markdown",
      "source": [
        "### Insert Many Monsters"
      ],
      "metadata": {
        "collapsed": false,
        "id": "7fcohpc_Tzj0"
      }
    },
    {
      "cell_type": "code",
      "execution_count": 13,
      "outputs": [
        {
          "output_type": "execute_result",
          "data": {
            "text/plain": [
              "<pymongo.results.InsertManyResult at 0x7f8f41f771e0>"
            ]
          },
          "metadata": {},
          "execution_count": 13
        }
      ],
      "source": [
        "db.insert_many(many_monsters)"
      ],
      "metadata": {
        "pycharm": {
          "name": "#%%\n"
        },
        "colab": {
          "base_uri": "https://localhost:8080/"
        },
        "id": "IDnDr5liTzj0",
        "outputId": "47d16553-5978-4cc2-fb28-41913c96a3b4"
      }
    },
    {
      "cell_type": "markdown",
      "source": [
        "### Checksum to see we have the new monsters added\n",
        "We started with 1 then added 999 monsters. We should have a total of 1000 Monsters."
      ],
      "metadata": {
        "collapsed": false,
        "id": "R7RK5MeRTzj0"
      }
    },
    {
      "cell_type": "code",
      "execution_count": 14,
      "outputs": [
        {
          "output_type": "execute_result",
          "data": {
            "text/plain": [
              "1000"
            ]
          },
          "metadata": {},
          "execution_count": 14
        }
      ],
      "source": [
        "db.count_documents({})"
      ],
      "metadata": {
        "pycharm": {
          "name": "#%%\n"
        },
        "colab": {
          "base_uri": "https://localhost:8080/"
        },
        "id": "d7M06EsITzj0",
        "outputId": "9b9d9b6d-84ea-4787-a501-adb85c2e36ef"
      }
    },
    {
      "cell_type": "markdown",
      "source": [
        "### Convert the Monsters Collection into a DataFrame"
      ],
      "metadata": {
        "collapsed": false,
        "id": "PJgPxkfNTzj0"
      }
    },
    {
      "cell_type": "code",
      "execution_count": 15,
      "outputs": [],
      "source": [
        "df = DataFrame(db.find())"
      ],
      "metadata": {
        "pycharm": {
          "name": "#%%\n"
        },
        "id": "653PydKITzj1"
      }
    },
    {
      "cell_type": "markdown",
      "source": [
        "### Save the data for ML Eng to use for training the ML model"
      ],
      "metadata": {
        "collapsed": false,
        "id": "VIjc_IHxTzj1"
      }
    },
    {
      "cell_type": "code",
      "execution_count": 29,
      "outputs": [],
      "source": [
        "df.to_csv(\"training_data.csv\")"
      ],
      "metadata": {
        "pycharm": {
          "name": "#%%\n"
        },
        "id": "uccW_IaYTzj1"
      }
    },
    {
      "cell_type": "markdown",
      "source": [
        "## Filters\n",
        "It's common to only want a subgroup of the data in a collection. We could use pandas, but to do this efficiently we should use a Mongo filter query.\n",
        "\n",
        "This does not affect the database in any way. The data is still in Mongo, it's just not downloaded for this query."
      ],
      "metadata": {
        "collapsed": false,
        "id": "5QMLaaYXTzj1"
      }
    },
    {
      "cell_type": "code",
      "execution_count": 30,
      "outputs": [
        {
          "output_type": "execute_result",
          "data": {
            "text/plain": [
              "                          _id    type             name  level  rarity  \\\n",
              "0    624efdc401cdd511e4c54ef6  Dragon    Faerie Dragon      6  Rank 0   \n",
              "1    624efdc401cdd511e4c54efa  Dragon   Black Wyrmling     13  Rank 1   \n",
              "2    624efdc401cdd511e4c54efd  Dragon    Ruby Wyrmling     11  Rank 0   \n",
              "3    624efdc401cdd511e4c54f00  Dragon           Wyvern      4  Rank 3   \n",
              "4    624efdc401cdd511e4c54f03  Dragon  Copper Wyrmling      4  Rank 1   \n",
              "..                        ...     ...              ...    ...     ...   \n",
              "157  624efdc401cdd511e4c552bf  Dragon           Wyvern     13  Rank 4   \n",
              "158  624efdc401cdd511e4c552c4  Dragon      White Drake     16  Rank 1   \n",
              "159  624efdc401cdd511e4c552cd  Dragon     Silver Drake     10  Rank 2   \n",
              "160  624efdc401cdd511e4c552d0  Dragon    Faerie Dragon     12  Rank 0   \n",
              "161  624efdc401cdd511e4c552d8  Dragon      White Drake      4  Rank 1   \n",
              "\n",
              "      damage           time_stamp  health  energy  sanity  \n",
              "0        6d2  2022-04-07 08:05:32   11.27   12.99   12.13  \n",
              "1     13d4+3  2022-04-07 08:05:32   50.95   53.10   53.25  \n",
              "2     11d2+2  2022-04-07 08:05:32   22.64   21.18   21.82  \n",
              "3      4d8+2  2022-04-07 08:05:32   35.41   28.56   34.00  \n",
              "4      4d4+2  2022-04-07 08:05:32   17.49   16.42   16.25  \n",
              "..       ...                  ...     ...     ...     ...  \n",
              "157  13d10+1  2022-04-07 08:05:32  128.38  126.15  134.46  \n",
              "158   16d4+1  2022-04-07 08:05:32   62.10   64.04   63.57  \n",
              "159   10d6+1  2022-04-07 08:05:32   61.73   58.70   61.59  \n",
              "160     12d2  2022-04-07 08:05:32   24.55   23.27   24.07  \n",
              "161    4d4+3  2022-04-07 08:05:32   16.75   16.39   16.97  \n",
              "\n",
              "[162 rows x 10 columns]"
            ],
            "text/html": [
              "\n",
              "  <div id=\"df-c5f8f5e1-8324-4bc5-a12e-ba783230dbd1\">\n",
              "    <div class=\"colab-df-container\">\n",
              "      <div>\n",
              "<style scoped>\n",
              "    .dataframe tbody tr th:only-of-type {\n",
              "        vertical-align: middle;\n",
              "    }\n",
              "\n",
              "    .dataframe tbody tr th {\n",
              "        vertical-align: top;\n",
              "    }\n",
              "\n",
              "    .dataframe thead th {\n",
              "        text-align: right;\n",
              "    }\n",
              "</style>\n",
              "<table border=\"1\" class=\"dataframe\">\n",
              "  <thead>\n",
              "    <tr style=\"text-align: right;\">\n",
              "      <th></th>\n",
              "      <th>_id</th>\n",
              "      <th>type</th>\n",
              "      <th>name</th>\n",
              "      <th>level</th>\n",
              "      <th>rarity</th>\n",
              "      <th>damage</th>\n",
              "      <th>time_stamp</th>\n",
              "      <th>health</th>\n",
              "      <th>energy</th>\n",
              "      <th>sanity</th>\n",
              "    </tr>\n",
              "  </thead>\n",
              "  <tbody>\n",
              "    <tr>\n",
              "      <th>0</th>\n",
              "      <td>624efdc401cdd511e4c54ef6</td>\n",
              "      <td>Dragon</td>\n",
              "      <td>Faerie Dragon</td>\n",
              "      <td>6</td>\n",
              "      <td>Rank 0</td>\n",
              "      <td>6d2</td>\n",
              "      <td>2022-04-07 08:05:32</td>\n",
              "      <td>11.27</td>\n",
              "      <td>12.99</td>\n",
              "      <td>12.13</td>\n",
              "    </tr>\n",
              "    <tr>\n",
              "      <th>1</th>\n",
              "      <td>624efdc401cdd511e4c54efa</td>\n",
              "      <td>Dragon</td>\n",
              "      <td>Black Wyrmling</td>\n",
              "      <td>13</td>\n",
              "      <td>Rank 1</td>\n",
              "      <td>13d4+3</td>\n",
              "      <td>2022-04-07 08:05:32</td>\n",
              "      <td>50.95</td>\n",
              "      <td>53.10</td>\n",
              "      <td>53.25</td>\n",
              "    </tr>\n",
              "    <tr>\n",
              "      <th>2</th>\n",
              "      <td>624efdc401cdd511e4c54efd</td>\n",
              "      <td>Dragon</td>\n",
              "      <td>Ruby Wyrmling</td>\n",
              "      <td>11</td>\n",
              "      <td>Rank 0</td>\n",
              "      <td>11d2+2</td>\n",
              "      <td>2022-04-07 08:05:32</td>\n",
              "      <td>22.64</td>\n",
              "      <td>21.18</td>\n",
              "      <td>21.82</td>\n",
              "    </tr>\n",
              "    <tr>\n",
              "      <th>3</th>\n",
              "      <td>624efdc401cdd511e4c54f00</td>\n",
              "      <td>Dragon</td>\n",
              "      <td>Wyvern</td>\n",
              "      <td>4</td>\n",
              "      <td>Rank 3</td>\n",
              "      <td>4d8+2</td>\n",
              "      <td>2022-04-07 08:05:32</td>\n",
              "      <td>35.41</td>\n",
              "      <td>28.56</td>\n",
              "      <td>34.00</td>\n",
              "    </tr>\n",
              "    <tr>\n",
              "      <th>4</th>\n",
              "      <td>624efdc401cdd511e4c54f03</td>\n",
              "      <td>Dragon</td>\n",
              "      <td>Copper Wyrmling</td>\n",
              "      <td>4</td>\n",
              "      <td>Rank 1</td>\n",
              "      <td>4d4+2</td>\n",
              "      <td>2022-04-07 08:05:32</td>\n",
              "      <td>17.49</td>\n",
              "      <td>16.42</td>\n",
              "      <td>16.25</td>\n",
              "    </tr>\n",
              "    <tr>\n",
              "      <th>...</th>\n",
              "      <td>...</td>\n",
              "      <td>...</td>\n",
              "      <td>...</td>\n",
              "      <td>...</td>\n",
              "      <td>...</td>\n",
              "      <td>...</td>\n",
              "      <td>...</td>\n",
              "      <td>...</td>\n",
              "      <td>...</td>\n",
              "      <td>...</td>\n",
              "    </tr>\n",
              "    <tr>\n",
              "      <th>157</th>\n",
              "      <td>624efdc401cdd511e4c552bf</td>\n",
              "      <td>Dragon</td>\n",
              "      <td>Wyvern</td>\n",
              "      <td>13</td>\n",
              "      <td>Rank 4</td>\n",
              "      <td>13d10+1</td>\n",
              "      <td>2022-04-07 08:05:32</td>\n",
              "      <td>128.38</td>\n",
              "      <td>126.15</td>\n",
              "      <td>134.46</td>\n",
              "    </tr>\n",
              "    <tr>\n",
              "      <th>158</th>\n",
              "      <td>624efdc401cdd511e4c552c4</td>\n",
              "      <td>Dragon</td>\n",
              "      <td>White Drake</td>\n",
              "      <td>16</td>\n",
              "      <td>Rank 1</td>\n",
              "      <td>16d4+1</td>\n",
              "      <td>2022-04-07 08:05:32</td>\n",
              "      <td>62.10</td>\n",
              "      <td>64.04</td>\n",
              "      <td>63.57</td>\n",
              "    </tr>\n",
              "    <tr>\n",
              "      <th>159</th>\n",
              "      <td>624efdc401cdd511e4c552cd</td>\n",
              "      <td>Dragon</td>\n",
              "      <td>Silver Drake</td>\n",
              "      <td>10</td>\n",
              "      <td>Rank 2</td>\n",
              "      <td>10d6+1</td>\n",
              "      <td>2022-04-07 08:05:32</td>\n",
              "      <td>61.73</td>\n",
              "      <td>58.70</td>\n",
              "      <td>61.59</td>\n",
              "    </tr>\n",
              "    <tr>\n",
              "      <th>160</th>\n",
              "      <td>624efdc401cdd511e4c552d0</td>\n",
              "      <td>Dragon</td>\n",
              "      <td>Faerie Dragon</td>\n",
              "      <td>12</td>\n",
              "      <td>Rank 0</td>\n",
              "      <td>12d2</td>\n",
              "      <td>2022-04-07 08:05:32</td>\n",
              "      <td>24.55</td>\n",
              "      <td>23.27</td>\n",
              "      <td>24.07</td>\n",
              "    </tr>\n",
              "    <tr>\n",
              "      <th>161</th>\n",
              "      <td>624efdc401cdd511e4c552d8</td>\n",
              "      <td>Dragon</td>\n",
              "      <td>White Drake</td>\n",
              "      <td>4</td>\n",
              "      <td>Rank 1</td>\n",
              "      <td>4d4+3</td>\n",
              "      <td>2022-04-07 08:05:32</td>\n",
              "      <td>16.75</td>\n",
              "      <td>16.39</td>\n",
              "      <td>16.97</td>\n",
              "    </tr>\n",
              "  </tbody>\n",
              "</table>\n",
              "<p>162 rows × 10 columns</p>\n",
              "</div>\n",
              "      <button class=\"colab-df-convert\" onclick=\"convertToInteractive('df-c5f8f5e1-8324-4bc5-a12e-ba783230dbd1')\"\n",
              "              title=\"Convert this dataframe to an interactive table.\"\n",
              "              style=\"display:none;\">\n",
              "        \n",
              "  <svg xmlns=\"http://www.w3.org/2000/svg\" height=\"24px\"viewBox=\"0 0 24 24\"\n",
              "       width=\"24px\">\n",
              "    <path d=\"M0 0h24v24H0V0z\" fill=\"none\"/>\n",
              "    <path d=\"M18.56 5.44l.94 2.06.94-2.06 2.06-.94-2.06-.94-.94-2.06-.94 2.06-2.06.94zm-11 1L8.5 8.5l.94-2.06 2.06-.94-2.06-.94L8.5 2.5l-.94 2.06-2.06.94zm10 10l.94 2.06.94-2.06 2.06-.94-2.06-.94-.94-2.06-.94 2.06-2.06.94z\"/><path d=\"M17.41 7.96l-1.37-1.37c-.4-.4-.92-.59-1.43-.59-.52 0-1.04.2-1.43.59L10.3 9.45l-7.72 7.72c-.78.78-.78 2.05 0 2.83L4 21.41c.39.39.9.59 1.41.59.51 0 1.02-.2 1.41-.59l7.78-7.78 2.81-2.81c.8-.78.8-2.07 0-2.86zM5.41 20L4 18.59l7.72-7.72 1.47 1.35L5.41 20z\"/>\n",
              "  </svg>\n",
              "      </button>\n",
              "      \n",
              "  <style>\n",
              "    .colab-df-container {\n",
              "      display:flex;\n",
              "      flex-wrap:wrap;\n",
              "      gap: 12px;\n",
              "    }\n",
              "\n",
              "    .colab-df-convert {\n",
              "      background-color: #E8F0FE;\n",
              "      border: none;\n",
              "      border-radius: 50%;\n",
              "      cursor: pointer;\n",
              "      display: none;\n",
              "      fill: #1967D2;\n",
              "      height: 32px;\n",
              "      padding: 0 0 0 0;\n",
              "      width: 32px;\n",
              "    }\n",
              "\n",
              "    .colab-df-convert:hover {\n",
              "      background-color: #E2EBFA;\n",
              "      box-shadow: 0px 1px 2px rgba(60, 64, 67, 0.3), 0px 1px 3px 1px rgba(60, 64, 67, 0.15);\n",
              "      fill: #174EA6;\n",
              "    }\n",
              "\n",
              "    [theme=dark] .colab-df-convert {\n",
              "      background-color: #3B4455;\n",
              "      fill: #D2E3FC;\n",
              "    }\n",
              "\n",
              "    [theme=dark] .colab-df-convert:hover {\n",
              "      background-color: #434B5C;\n",
              "      box-shadow: 0px 1px 3px 1px rgba(0, 0, 0, 0.15);\n",
              "      filter: drop-shadow(0px 1px 2px rgba(0, 0, 0, 0.3));\n",
              "      fill: #FFFFFF;\n",
              "    }\n",
              "  </style>\n",
              "\n",
              "      <script>\n",
              "        const buttonEl =\n",
              "          document.querySelector('#df-c5f8f5e1-8324-4bc5-a12e-ba783230dbd1 button.colab-df-convert');\n",
              "        buttonEl.style.display =\n",
              "          google.colab.kernel.accessAllowed ? 'block' : 'none';\n",
              "\n",
              "        async function convertToInteractive(key) {\n",
              "          const element = document.querySelector('#df-c5f8f5e1-8324-4bc5-a12e-ba783230dbd1');\n",
              "          const dataTable =\n",
              "            await google.colab.kernel.invokeFunction('convertToInteractive',\n",
              "                                                     [key], {});\n",
              "          if (!dataTable) return;\n",
              "\n",
              "          const docLinkHtml = 'Like what you see? Visit the ' +\n",
              "            '<a target=\"_blank\" href=https://colab.research.google.com/notebooks/data_table.ipynb>data table notebook</a>'\n",
              "            + ' to learn more about interactive tables.';\n",
              "          element.innerHTML = '';\n",
              "          dataTable['output_type'] = 'display_data';\n",
              "          await google.colab.output.renderOutput(dataTable, element);\n",
              "          const docLink = document.createElement('div');\n",
              "          docLink.innerHTML = docLinkHtml;\n",
              "          element.appendChild(docLink);\n",
              "        }\n",
              "      </script>\n",
              "    </div>\n",
              "  </div>\n",
              "  "
            ]
          },
          "metadata": {},
          "execution_count": 30
        }
      ],
      "source": [
        "DataFrame(db.find({\"type\": \"Dragon\"}))"
      ],
      "metadata": {
        "pycharm": {
          "name": "#%%\n"
        },
        "colab": {
          "base_uri": "https://localhost:8080/",
          "height": 423
        },
        "id": "eJUQEpsgTzj1",
        "outputId": "f6e6a4d5-3004-44bd-ab73-72c2e335d28e"
      }
    },
    {
      "cell_type": "markdown",
      "source": [
        "## Projections\n",
        "For machine learning we only want the data that we intend to use for ML training. To do this we could use Pandas, but we can also use Mongo. It is far more efficient to use Mongo rather than download all the info then filter it. Let's see how to get rid of the `_id` and `time_stamp` columns with Mongo.\n",
        "\n",
        "This does not affect the database in any way. The data is still in Mongo, it's just not downloaded for this query."
      ],
      "metadata": {
        "collapsed": false,
        "id": "ALVxWxGaTzj1"
      }
    },
    {
      "cell_type": "code",
      "execution_count": 31,
      "outputs": [
        {
          "output_type": "execute_result",
          "data": {
            "text/plain": [
              "          type           name  level  rarity  damage  health  energy  sanity\n",
              "0     Devilkin       Pit Lord      9  Rank 1   9d4+1   37.97   37.21   35.90\n",
              "1       Undead  Ghostly Guard      4  Rank 0   4d2+2    7.63    8.61    8.52\n",
              "2       Dragon  Faerie Dragon      6  Rank 0     6d2   11.27   12.99   12.13\n",
              "3    Elemental         Djinni     15  Rank 0  15d2+1   30.02   30.61   29.30\n",
              "4      Demonic      Nightmare      4  Rank 1   4d4+1   16.67   15.89   14.85\n",
              "..         ...            ...    ...     ...     ...     ...     ...     ...\n",
              "995    Demonic      Pit Fiend      5  Rank 2   5d6+2   28.30   32.55   28.76\n",
              "996     Dragon    White Drake      4  Rank 1   4d4+3   16.75   16.39   16.97\n",
              "997   Devilkin       Succubus     11  Rank 0    11d2   22.44   21.80   21.66\n",
              "998    Demonic      Nightmare      9  Rank 4  9d10+2   89.32   87.61   86.24\n",
              "999        Fey   Smoke Spirit     11  Rank 2    11d6   63.12   66.10   66.85\n",
              "\n",
              "[1000 rows x 8 columns]"
            ],
            "text/html": [
              "\n",
              "  <div id=\"df-1cfcafd9-ee4e-4653-81f7-34010ca5f303\">\n",
              "    <div class=\"colab-df-container\">\n",
              "      <div>\n",
              "<style scoped>\n",
              "    .dataframe tbody tr th:only-of-type {\n",
              "        vertical-align: middle;\n",
              "    }\n",
              "\n",
              "    .dataframe tbody tr th {\n",
              "        vertical-align: top;\n",
              "    }\n",
              "\n",
              "    .dataframe thead th {\n",
              "        text-align: right;\n",
              "    }\n",
              "</style>\n",
              "<table border=\"1\" class=\"dataframe\">\n",
              "  <thead>\n",
              "    <tr style=\"text-align: right;\">\n",
              "      <th></th>\n",
              "      <th>type</th>\n",
              "      <th>name</th>\n",
              "      <th>level</th>\n",
              "      <th>rarity</th>\n",
              "      <th>damage</th>\n",
              "      <th>health</th>\n",
              "      <th>energy</th>\n",
              "      <th>sanity</th>\n",
              "    </tr>\n",
              "  </thead>\n",
              "  <tbody>\n",
              "    <tr>\n",
              "      <th>0</th>\n",
              "      <td>Devilkin</td>\n",
              "      <td>Pit Lord</td>\n",
              "      <td>9</td>\n",
              "      <td>Rank 1</td>\n",
              "      <td>9d4+1</td>\n",
              "      <td>37.97</td>\n",
              "      <td>37.21</td>\n",
              "      <td>35.90</td>\n",
              "    </tr>\n",
              "    <tr>\n",
              "      <th>1</th>\n",
              "      <td>Undead</td>\n",
              "      <td>Ghostly Guard</td>\n",
              "      <td>4</td>\n",
              "      <td>Rank 0</td>\n",
              "      <td>4d2+2</td>\n",
              "      <td>7.63</td>\n",
              "      <td>8.61</td>\n",
              "      <td>8.52</td>\n",
              "    </tr>\n",
              "    <tr>\n",
              "      <th>2</th>\n",
              "      <td>Dragon</td>\n",
              "      <td>Faerie Dragon</td>\n",
              "      <td>6</td>\n",
              "      <td>Rank 0</td>\n",
              "      <td>6d2</td>\n",
              "      <td>11.27</td>\n",
              "      <td>12.99</td>\n",
              "      <td>12.13</td>\n",
              "    </tr>\n",
              "    <tr>\n",
              "      <th>3</th>\n",
              "      <td>Elemental</td>\n",
              "      <td>Djinni</td>\n",
              "      <td>15</td>\n",
              "      <td>Rank 0</td>\n",
              "      <td>15d2+1</td>\n",
              "      <td>30.02</td>\n",
              "      <td>30.61</td>\n",
              "      <td>29.30</td>\n",
              "    </tr>\n",
              "    <tr>\n",
              "      <th>4</th>\n",
              "      <td>Demonic</td>\n",
              "      <td>Nightmare</td>\n",
              "      <td>4</td>\n",
              "      <td>Rank 1</td>\n",
              "      <td>4d4+1</td>\n",
              "      <td>16.67</td>\n",
              "      <td>15.89</td>\n",
              "      <td>14.85</td>\n",
              "    </tr>\n",
              "    <tr>\n",
              "      <th>...</th>\n",
              "      <td>...</td>\n",
              "      <td>...</td>\n",
              "      <td>...</td>\n",
              "      <td>...</td>\n",
              "      <td>...</td>\n",
              "      <td>...</td>\n",
              "      <td>...</td>\n",
              "      <td>...</td>\n",
              "    </tr>\n",
              "    <tr>\n",
              "      <th>995</th>\n",
              "      <td>Demonic</td>\n",
              "      <td>Pit Fiend</td>\n",
              "      <td>5</td>\n",
              "      <td>Rank 2</td>\n",
              "      <td>5d6+2</td>\n",
              "      <td>28.30</td>\n",
              "      <td>32.55</td>\n",
              "      <td>28.76</td>\n",
              "    </tr>\n",
              "    <tr>\n",
              "      <th>996</th>\n",
              "      <td>Dragon</td>\n",
              "      <td>White Drake</td>\n",
              "      <td>4</td>\n",
              "      <td>Rank 1</td>\n",
              "      <td>4d4+3</td>\n",
              "      <td>16.75</td>\n",
              "      <td>16.39</td>\n",
              "      <td>16.97</td>\n",
              "    </tr>\n",
              "    <tr>\n",
              "      <th>997</th>\n",
              "      <td>Devilkin</td>\n",
              "      <td>Succubus</td>\n",
              "      <td>11</td>\n",
              "      <td>Rank 0</td>\n",
              "      <td>11d2</td>\n",
              "      <td>22.44</td>\n",
              "      <td>21.80</td>\n",
              "      <td>21.66</td>\n",
              "    </tr>\n",
              "    <tr>\n",
              "      <th>998</th>\n",
              "      <td>Demonic</td>\n",
              "      <td>Nightmare</td>\n",
              "      <td>9</td>\n",
              "      <td>Rank 4</td>\n",
              "      <td>9d10+2</td>\n",
              "      <td>89.32</td>\n",
              "      <td>87.61</td>\n",
              "      <td>86.24</td>\n",
              "    </tr>\n",
              "    <tr>\n",
              "      <th>999</th>\n",
              "      <td>Fey</td>\n",
              "      <td>Smoke Spirit</td>\n",
              "      <td>11</td>\n",
              "      <td>Rank 2</td>\n",
              "      <td>11d6</td>\n",
              "      <td>63.12</td>\n",
              "      <td>66.10</td>\n",
              "      <td>66.85</td>\n",
              "    </tr>\n",
              "  </tbody>\n",
              "</table>\n",
              "<p>1000 rows × 8 columns</p>\n",
              "</div>\n",
              "      <button class=\"colab-df-convert\" onclick=\"convertToInteractive('df-1cfcafd9-ee4e-4653-81f7-34010ca5f303')\"\n",
              "              title=\"Convert this dataframe to an interactive table.\"\n",
              "              style=\"display:none;\">\n",
              "        \n",
              "  <svg xmlns=\"http://www.w3.org/2000/svg\" height=\"24px\"viewBox=\"0 0 24 24\"\n",
              "       width=\"24px\">\n",
              "    <path d=\"M0 0h24v24H0V0z\" fill=\"none\"/>\n",
              "    <path d=\"M18.56 5.44l.94 2.06.94-2.06 2.06-.94-2.06-.94-.94-2.06-.94 2.06-2.06.94zm-11 1L8.5 8.5l.94-2.06 2.06-.94-2.06-.94L8.5 2.5l-.94 2.06-2.06.94zm10 10l.94 2.06.94-2.06 2.06-.94-2.06-.94-.94-2.06-.94 2.06-2.06.94z\"/><path d=\"M17.41 7.96l-1.37-1.37c-.4-.4-.92-.59-1.43-.59-.52 0-1.04.2-1.43.59L10.3 9.45l-7.72 7.72c-.78.78-.78 2.05 0 2.83L4 21.41c.39.39.9.59 1.41.59.51 0 1.02-.2 1.41-.59l7.78-7.78 2.81-2.81c.8-.78.8-2.07 0-2.86zM5.41 20L4 18.59l7.72-7.72 1.47 1.35L5.41 20z\"/>\n",
              "  </svg>\n",
              "      </button>\n",
              "      \n",
              "  <style>\n",
              "    .colab-df-container {\n",
              "      display:flex;\n",
              "      flex-wrap:wrap;\n",
              "      gap: 12px;\n",
              "    }\n",
              "\n",
              "    .colab-df-convert {\n",
              "      background-color: #E8F0FE;\n",
              "      border: none;\n",
              "      border-radius: 50%;\n",
              "      cursor: pointer;\n",
              "      display: none;\n",
              "      fill: #1967D2;\n",
              "      height: 32px;\n",
              "      padding: 0 0 0 0;\n",
              "      width: 32px;\n",
              "    }\n",
              "\n",
              "    .colab-df-convert:hover {\n",
              "      background-color: #E2EBFA;\n",
              "      box-shadow: 0px 1px 2px rgba(60, 64, 67, 0.3), 0px 1px 3px 1px rgba(60, 64, 67, 0.15);\n",
              "      fill: #174EA6;\n",
              "    }\n",
              "\n",
              "    [theme=dark] .colab-df-convert {\n",
              "      background-color: #3B4455;\n",
              "      fill: #D2E3FC;\n",
              "    }\n",
              "\n",
              "    [theme=dark] .colab-df-convert:hover {\n",
              "      background-color: #434B5C;\n",
              "      box-shadow: 0px 1px 3px 1px rgba(0, 0, 0, 0.15);\n",
              "      filter: drop-shadow(0px 1px 2px rgba(0, 0, 0, 0.3));\n",
              "      fill: #FFFFFF;\n",
              "    }\n",
              "  </style>\n",
              "\n",
              "      <script>\n",
              "        const buttonEl =\n",
              "          document.querySelector('#df-1cfcafd9-ee4e-4653-81f7-34010ca5f303 button.colab-df-convert');\n",
              "        buttonEl.style.display =\n",
              "          google.colab.kernel.accessAllowed ? 'block' : 'none';\n",
              "\n",
              "        async function convertToInteractive(key) {\n",
              "          const element = document.querySelector('#df-1cfcafd9-ee4e-4653-81f7-34010ca5f303');\n",
              "          const dataTable =\n",
              "            await google.colab.kernel.invokeFunction('convertToInteractive',\n",
              "                                                     [key], {});\n",
              "          if (!dataTable) return;\n",
              "\n",
              "          const docLinkHtml = 'Like what you see? Visit the ' +\n",
              "            '<a target=\"_blank\" href=https://colab.research.google.com/notebooks/data_table.ipynb>data table notebook</a>'\n",
              "            + ' to learn more about interactive tables.';\n",
              "          element.innerHTML = '';\n",
              "          dataTable['output_type'] = 'display_data';\n",
              "          await google.colab.output.renderOutput(dataTable, element);\n",
              "          const docLink = document.createElement('div');\n",
              "          docLink.innerHTML = docLinkHtml;\n",
              "          element.appendChild(docLink);\n",
              "        }\n",
              "      </script>\n",
              "    </div>\n",
              "  </div>\n",
              "  "
            ]
          },
          "metadata": {},
          "execution_count": 31
        }
      ],
      "source": [
        "DataFrame(db.find(projection={\"_id\": False, \"time_stamp\": False}))"
      ],
      "metadata": {
        "pycharm": {
          "name": "#%%\n"
        },
        "colab": {
          "base_uri": "https://localhost:8080/",
          "height": 423
        },
        "id": "lcD3YwcyTzj1",
        "outputId": "97391887-dad1-46b1-f454-5f4598b1b3d3"
      }
    },
    {
      "cell_type": "markdown",
      "source": [
        "## A Filtered Projection\n",
        "...And sometimes we want to use both filter and projection together."
      ],
      "metadata": {
        "collapsed": false,
        "id": "58-BPsSZTzj2"
      }
    },
    {
      "cell_type": "code",
      "execution_count": 32,
      "outputs": [
        {
          "output_type": "execute_result",
          "data": {
            "text/plain": [
              "       type             name  level  rarity   damage  health  energy  sanity\n",
              "0    Dragon    Faerie Dragon      6  Rank 0      6d2   11.27   12.99   12.13\n",
              "1    Dragon   Black Wyrmling     13  Rank 1   13d4+3   50.95   53.10   53.25\n",
              "2    Dragon    Ruby Wyrmling     11  Rank 0   11d2+2   22.64   21.18   21.82\n",
              "3    Dragon           Wyvern      4  Rank 3    4d8+2   35.41   28.56   34.00\n",
              "4    Dragon  Copper Wyrmling      4  Rank 1    4d4+2   17.49   16.42   16.25\n",
              "..      ...              ...    ...     ...      ...     ...     ...     ...\n",
              "157  Dragon           Wyvern     13  Rank 4  13d10+1  128.38  126.15  134.46\n",
              "158  Dragon      White Drake     16  Rank 1   16d4+1   62.10   64.04   63.57\n",
              "159  Dragon     Silver Drake     10  Rank 2   10d6+1   61.73   58.70   61.59\n",
              "160  Dragon    Faerie Dragon     12  Rank 0     12d2   24.55   23.27   24.07\n",
              "161  Dragon      White Drake      4  Rank 1    4d4+3   16.75   16.39   16.97\n",
              "\n",
              "[162 rows x 8 columns]"
            ],
            "text/html": [
              "\n",
              "  <div id=\"df-859e38ce-6437-4751-baf0-7ab854aae3e0\">\n",
              "    <div class=\"colab-df-container\">\n",
              "      <div>\n",
              "<style scoped>\n",
              "    .dataframe tbody tr th:only-of-type {\n",
              "        vertical-align: middle;\n",
              "    }\n",
              "\n",
              "    .dataframe tbody tr th {\n",
              "        vertical-align: top;\n",
              "    }\n",
              "\n",
              "    .dataframe thead th {\n",
              "        text-align: right;\n",
              "    }\n",
              "</style>\n",
              "<table border=\"1\" class=\"dataframe\">\n",
              "  <thead>\n",
              "    <tr style=\"text-align: right;\">\n",
              "      <th></th>\n",
              "      <th>type</th>\n",
              "      <th>name</th>\n",
              "      <th>level</th>\n",
              "      <th>rarity</th>\n",
              "      <th>damage</th>\n",
              "      <th>health</th>\n",
              "      <th>energy</th>\n",
              "      <th>sanity</th>\n",
              "    </tr>\n",
              "  </thead>\n",
              "  <tbody>\n",
              "    <tr>\n",
              "      <th>0</th>\n",
              "      <td>Dragon</td>\n",
              "      <td>Faerie Dragon</td>\n",
              "      <td>6</td>\n",
              "      <td>Rank 0</td>\n",
              "      <td>6d2</td>\n",
              "      <td>11.27</td>\n",
              "      <td>12.99</td>\n",
              "      <td>12.13</td>\n",
              "    </tr>\n",
              "    <tr>\n",
              "      <th>1</th>\n",
              "      <td>Dragon</td>\n",
              "      <td>Black Wyrmling</td>\n",
              "      <td>13</td>\n",
              "      <td>Rank 1</td>\n",
              "      <td>13d4+3</td>\n",
              "      <td>50.95</td>\n",
              "      <td>53.10</td>\n",
              "      <td>53.25</td>\n",
              "    </tr>\n",
              "    <tr>\n",
              "      <th>2</th>\n",
              "      <td>Dragon</td>\n",
              "      <td>Ruby Wyrmling</td>\n",
              "      <td>11</td>\n",
              "      <td>Rank 0</td>\n",
              "      <td>11d2+2</td>\n",
              "      <td>22.64</td>\n",
              "      <td>21.18</td>\n",
              "      <td>21.82</td>\n",
              "    </tr>\n",
              "    <tr>\n",
              "      <th>3</th>\n",
              "      <td>Dragon</td>\n",
              "      <td>Wyvern</td>\n",
              "      <td>4</td>\n",
              "      <td>Rank 3</td>\n",
              "      <td>4d8+2</td>\n",
              "      <td>35.41</td>\n",
              "      <td>28.56</td>\n",
              "      <td>34.00</td>\n",
              "    </tr>\n",
              "    <tr>\n",
              "      <th>4</th>\n",
              "      <td>Dragon</td>\n",
              "      <td>Copper Wyrmling</td>\n",
              "      <td>4</td>\n",
              "      <td>Rank 1</td>\n",
              "      <td>4d4+2</td>\n",
              "      <td>17.49</td>\n",
              "      <td>16.42</td>\n",
              "      <td>16.25</td>\n",
              "    </tr>\n",
              "    <tr>\n",
              "      <th>...</th>\n",
              "      <td>...</td>\n",
              "      <td>...</td>\n",
              "      <td>...</td>\n",
              "      <td>...</td>\n",
              "      <td>...</td>\n",
              "      <td>...</td>\n",
              "      <td>...</td>\n",
              "      <td>...</td>\n",
              "    </tr>\n",
              "    <tr>\n",
              "      <th>157</th>\n",
              "      <td>Dragon</td>\n",
              "      <td>Wyvern</td>\n",
              "      <td>13</td>\n",
              "      <td>Rank 4</td>\n",
              "      <td>13d10+1</td>\n",
              "      <td>128.38</td>\n",
              "      <td>126.15</td>\n",
              "      <td>134.46</td>\n",
              "    </tr>\n",
              "    <tr>\n",
              "      <th>158</th>\n",
              "      <td>Dragon</td>\n",
              "      <td>White Drake</td>\n",
              "      <td>16</td>\n",
              "      <td>Rank 1</td>\n",
              "      <td>16d4+1</td>\n",
              "      <td>62.10</td>\n",
              "      <td>64.04</td>\n",
              "      <td>63.57</td>\n",
              "    </tr>\n",
              "    <tr>\n",
              "      <th>159</th>\n",
              "      <td>Dragon</td>\n",
              "      <td>Silver Drake</td>\n",
              "      <td>10</td>\n",
              "      <td>Rank 2</td>\n",
              "      <td>10d6+1</td>\n",
              "      <td>61.73</td>\n",
              "      <td>58.70</td>\n",
              "      <td>61.59</td>\n",
              "    </tr>\n",
              "    <tr>\n",
              "      <th>160</th>\n",
              "      <td>Dragon</td>\n",
              "      <td>Faerie Dragon</td>\n",
              "      <td>12</td>\n",
              "      <td>Rank 0</td>\n",
              "      <td>12d2</td>\n",
              "      <td>24.55</td>\n",
              "      <td>23.27</td>\n",
              "      <td>24.07</td>\n",
              "    </tr>\n",
              "    <tr>\n",
              "      <th>161</th>\n",
              "      <td>Dragon</td>\n",
              "      <td>White Drake</td>\n",
              "      <td>4</td>\n",
              "      <td>Rank 1</td>\n",
              "      <td>4d4+3</td>\n",
              "      <td>16.75</td>\n",
              "      <td>16.39</td>\n",
              "      <td>16.97</td>\n",
              "    </tr>\n",
              "  </tbody>\n",
              "</table>\n",
              "<p>162 rows × 8 columns</p>\n",
              "</div>\n",
              "      <button class=\"colab-df-convert\" onclick=\"convertToInteractive('df-859e38ce-6437-4751-baf0-7ab854aae3e0')\"\n",
              "              title=\"Convert this dataframe to an interactive table.\"\n",
              "              style=\"display:none;\">\n",
              "        \n",
              "  <svg xmlns=\"http://www.w3.org/2000/svg\" height=\"24px\"viewBox=\"0 0 24 24\"\n",
              "       width=\"24px\">\n",
              "    <path d=\"M0 0h24v24H0V0z\" fill=\"none\"/>\n",
              "    <path d=\"M18.56 5.44l.94 2.06.94-2.06 2.06-.94-2.06-.94-.94-2.06-.94 2.06-2.06.94zm-11 1L8.5 8.5l.94-2.06 2.06-.94-2.06-.94L8.5 2.5l-.94 2.06-2.06.94zm10 10l.94 2.06.94-2.06 2.06-.94-2.06-.94-.94-2.06-.94 2.06-2.06.94z\"/><path d=\"M17.41 7.96l-1.37-1.37c-.4-.4-.92-.59-1.43-.59-.52 0-1.04.2-1.43.59L10.3 9.45l-7.72 7.72c-.78.78-.78 2.05 0 2.83L4 21.41c.39.39.9.59 1.41.59.51 0 1.02-.2 1.41-.59l7.78-7.78 2.81-2.81c.8-.78.8-2.07 0-2.86zM5.41 20L4 18.59l7.72-7.72 1.47 1.35L5.41 20z\"/>\n",
              "  </svg>\n",
              "      </button>\n",
              "      \n",
              "  <style>\n",
              "    .colab-df-container {\n",
              "      display:flex;\n",
              "      flex-wrap:wrap;\n",
              "      gap: 12px;\n",
              "    }\n",
              "\n",
              "    .colab-df-convert {\n",
              "      background-color: #E8F0FE;\n",
              "      border: none;\n",
              "      border-radius: 50%;\n",
              "      cursor: pointer;\n",
              "      display: none;\n",
              "      fill: #1967D2;\n",
              "      height: 32px;\n",
              "      padding: 0 0 0 0;\n",
              "      width: 32px;\n",
              "    }\n",
              "\n",
              "    .colab-df-convert:hover {\n",
              "      background-color: #E2EBFA;\n",
              "      box-shadow: 0px 1px 2px rgba(60, 64, 67, 0.3), 0px 1px 3px 1px rgba(60, 64, 67, 0.15);\n",
              "      fill: #174EA6;\n",
              "    }\n",
              "\n",
              "    [theme=dark] .colab-df-convert {\n",
              "      background-color: #3B4455;\n",
              "      fill: #D2E3FC;\n",
              "    }\n",
              "\n",
              "    [theme=dark] .colab-df-convert:hover {\n",
              "      background-color: #434B5C;\n",
              "      box-shadow: 0px 1px 3px 1px rgba(0, 0, 0, 0.15);\n",
              "      filter: drop-shadow(0px 1px 2px rgba(0, 0, 0, 0.3));\n",
              "      fill: #FFFFFF;\n",
              "    }\n",
              "  </style>\n",
              "\n",
              "      <script>\n",
              "        const buttonEl =\n",
              "          document.querySelector('#df-859e38ce-6437-4751-baf0-7ab854aae3e0 button.colab-df-convert');\n",
              "        buttonEl.style.display =\n",
              "          google.colab.kernel.accessAllowed ? 'block' : 'none';\n",
              "\n",
              "        async function convertToInteractive(key) {\n",
              "          const element = document.querySelector('#df-859e38ce-6437-4751-baf0-7ab854aae3e0');\n",
              "          const dataTable =\n",
              "            await google.colab.kernel.invokeFunction('convertToInteractive',\n",
              "                                                     [key], {});\n",
              "          if (!dataTable) return;\n",
              "\n",
              "          const docLinkHtml = 'Like what you see? Visit the ' +\n",
              "            '<a target=\"_blank\" href=https://colab.research.google.com/notebooks/data_table.ipynb>data table notebook</a>'\n",
              "            + ' to learn more about interactive tables.';\n",
              "          element.innerHTML = '';\n",
              "          dataTable['output_type'] = 'display_data';\n",
              "          await google.colab.output.renderOutput(dataTable, element);\n",
              "          const docLink = document.createElement('div');\n",
              "          docLink.innerHTML = docLinkHtml;\n",
              "          element.appendChild(docLink);\n",
              "        }\n",
              "      </script>\n",
              "    </div>\n",
              "  </div>\n",
              "  "
            ]
          },
          "metadata": {},
          "execution_count": 32
        }
      ],
      "source": [
        "DataFrame(db.find(\n",
        "    {\"type\": \"Dragon\"},\n",
        "    projection={\"_id\": False, \"time_stamp\": False},\n",
        "))"
      ],
      "metadata": {
        "pycharm": {
          "name": "#%%\n"
        },
        "colab": {
          "base_uri": "https://localhost:8080/",
          "height": 423
        },
        "id": "j1c0xG2oTzj2",
        "outputId": "95cf49a3-ef90-4414-e5af-a58f4b582f43"
      }
    },
    {
      "cell_type": "markdown",
      "source": [
        "### Backup Database Monsters to JSON File\n",
        "The auto generated \"_id\" field is a custom object type and can not be serialized to JSON.\n",
        "\n",
        "The following cell should create a backup of our data and save it to \"monsters.json\" locally."
      ],
      "metadata": {
        "collapsed": false,
        "id": "_Eo92oWWTzj2"
      }
    },
    {
      "cell_type": "code",
      "execution_count": 33,
      "outputs": [
        {
          "output_type": "execute_result",
          "data": {
            "text/plain": [
              "1000"
            ]
          },
          "metadata": {},
          "execution_count": 33
        }
      ],
      "source": [
        "with open(\"monsters.json\", \"w\") as file:\n",
        "    json.dump(tuple(db.find(projection={\"_id\": False})), file)\n",
        "db.count_documents({})"
      ],
      "metadata": {
        "pycharm": {
          "name": "#%%\n"
        },
        "colab": {
          "base_uri": "https://localhost:8080/"
        },
        "id": "D3H2iGdrTzj2",
        "outputId": "44f06872-91de-4cfc-b432-0166e16836e6"
      }
    },
    {
      "cell_type": "markdown",
      "source": [
        "### Delete All Monsters to Test our Backup & Restore Procedure"
      ],
      "metadata": {
        "collapsed": false,
        "id": "mw3kIBppTzj3"
      }
    },
    {
      "cell_type": "code",
      "execution_count": 34,
      "outputs": [
        {
          "output_type": "execute_result",
          "data": {
            "text/plain": [
              "0"
            ]
          },
          "metadata": {},
          "execution_count": 34
        }
      ],
      "source": [
        "db.delete_many({})\n",
        "db.count_documents({})"
      ],
      "metadata": {
        "pycharm": {
          "name": "#%%\n"
        },
        "colab": {
          "base_uri": "https://localhost:8080/"
        },
        "id": "1zUcLmJSTzj3",
        "outputId": "f1ca7370-4bfd-4b8f-aaa2-c76e6bab1fc9"
      }
    },
    {
      "cell_type": "markdown",
      "source": [
        "### Restore Database Monsters from JSON File"
      ],
      "metadata": {
        "collapsed": false,
        "id": "yhIlSYG-Tzj3"
      }
    },
    {
      "cell_type": "code",
      "execution_count": 35,
      "outputs": [
        {
          "output_type": "execute_result",
          "data": {
            "text/plain": [
              "1000"
            ]
          },
          "metadata": {},
          "execution_count": 35
        }
      ],
      "source": [
        "with open(\"monsters.json\", \"r\") as file:\n",
        "    db.insert_many(json.load(file))\n",
        "db.count_documents({})"
      ],
      "metadata": {
        "pycharm": {
          "name": "#%%\n"
        },
        "colab": {
          "base_uri": "https://localhost:8080/"
        },
        "id": "GVZHW0ZKTzj3",
        "outputId": "f40dadf4-e03c-48f2-d021-e18882b38720"
      }
    },
    {
      "cell_type": "markdown",
      "source": [
        "# Monster Graphs: Plotly"
      ],
      "metadata": {
        "collapsed": false,
        "id": "n2lk96HwTzj3"
      }
    },
    {
      "cell_type": "code",
      "execution_count": 36,
      "outputs": [
        {
          "output_type": "execute_result",
          "data": {
            "text/plain": [
              "Devilkin     174\n",
              "Demonic      171\n",
              "Undead       168\n",
              "Fey          164\n",
              "Dragon       162\n",
              "Elemental    161\n",
              "Name: type, dtype: int64"
            ]
          },
          "metadata": {},
          "execution_count": 36
        }
      ],
      "source": [
        "df_type = DataFrame(db.find(projection={\"_id\": False, \"type\": True}))\n",
        "type_value_counts = df_type[\"type\"].value_counts()\n",
        "type_value_counts"
      ],
      "metadata": {
        "pycharm": {
          "name": "#%%\n"
        },
        "colab": {
          "base_uri": "https://localhost:8080/"
        },
        "id": "mRZk5e_CTzj3",
        "outputId": "79681b9f-f382-4a02-ecbc-88bcbb6ea99a"
      }
    },
    {
      "cell_type": "code",
      "execution_count": 37,
      "outputs": [
        {
          "output_type": "display_data",
          "data": {
            "text/html": [
              "<html>\n",
              "<head><meta charset=\"utf-8\" /></head>\n",
              "<body>\n",
              "    <div>            <script src=\"https://cdnjs.cloudflare.com/ajax/libs/mathjax/2.7.5/MathJax.js?config=TeX-AMS-MML_SVG\"></script><script type=\"text/javascript\">if (window.MathJax) {MathJax.Hub.Config({SVG: {font: \"STIX-Web\"}});}</script>                <script type=\"text/javascript\">window.PlotlyConfig = {MathJaxConfig: 'local'};</script>\n",
              "        <script src=\"https://cdn.plot.ly/plotly-2.8.3.min.js\"></script>                <div id=\"0fe7f376-e947-473f-bf70-e5b1fc3e039c\" class=\"plotly-graph-div\" style=\"height:640px; width:640px;\"></div>            <script type=\"text/javascript\">                                    window.PLOTLYENV=window.PLOTLYENV || {};                                    if (document.getElementById(\"0fe7f376-e947-473f-bf70-e5b1fc3e039c\")) {                    Plotly.newPlot(                        \"0fe7f376-e947-473f-bf70-e5b1fc3e039c\",                        [{\"hole\":0.5,\"hoverinfo\":\"text+label+value\",\"labels\":[\"Devilkin\",\"Demonic\",\"Undead\",\"Fey\",\"Dragon\",\"Elemental\"],\"showlegend\":false,\"textfont\":{\"size\":12},\"textinfo\":\"percent+label\",\"textposition\":\"inside\",\"values\":[174,171,168,164,162,161],\"type\":\"pie\"}],                        {\"colorway\":[\"rgb(133, 92, 117)\",\"rgb(217, 175, 107)\",\"rgb(175, 100, 88)\",\"rgb(115, 111, 76)\",\"rgb(82, 106, 131)\",\"rgb(98, 83, 119)\",\"rgb(104, 133, 92)\",\"rgb(156, 156, 94)\",\"rgb(160, 97, 119)\",\"rgb(140, 120, 93)\",\"rgb(124, 124, 124)\"],\"height\":640,\"paper_bgcolor\":\"#333333\",\"title\":{\"font\":{\"color\":\"white\",\"size\":24},\"text\":\"Monster Counts by Types\"},\"width\":640,\"template\":{\"data\":{\"bar\":[{\"error_x\":{\"color\":\"#2a3f5f\"},\"error_y\":{\"color\":\"#2a3f5f\"},\"marker\":{\"line\":{\"color\":\"#E5ECF6\",\"width\":0.5},\"pattern\":{\"fillmode\":\"overlay\",\"size\":10,\"solidity\":0.2}},\"type\":\"bar\"}],\"barpolar\":[{\"marker\":{\"line\":{\"color\":\"#E5ECF6\",\"width\":0.5},\"pattern\":{\"fillmode\":\"overlay\",\"size\":10,\"solidity\":0.2}},\"type\":\"barpolar\"}],\"carpet\":[{\"aaxis\":{\"endlinecolor\":\"#2a3f5f\",\"gridcolor\":\"white\",\"linecolor\":\"white\",\"minorgridcolor\":\"white\",\"startlinecolor\":\"#2a3f5f\"},\"baxis\":{\"endlinecolor\":\"#2a3f5f\",\"gridcolor\":\"white\",\"linecolor\":\"white\",\"minorgridcolor\":\"white\",\"startlinecolor\":\"#2a3f5f\"},\"type\":\"carpet\"}],\"choropleth\":[{\"colorbar\":{\"outlinewidth\":0,\"ticks\":\"\"},\"type\":\"choropleth\"}],\"contour\":[{\"colorbar\":{\"outlinewidth\":0,\"ticks\":\"\"},\"colorscale\":[[0.0,\"#0d0887\"],[0.1111111111111111,\"#46039f\"],[0.2222222222222222,\"#7201a8\"],[0.3333333333333333,\"#9c179e\"],[0.4444444444444444,\"#bd3786\"],[0.5555555555555556,\"#d8576b\"],[0.6666666666666666,\"#ed7953\"],[0.7777777777777778,\"#fb9f3a\"],[0.8888888888888888,\"#fdca26\"],[1.0,\"#f0f921\"]],\"type\":\"contour\"}],\"contourcarpet\":[{\"colorbar\":{\"outlinewidth\":0,\"ticks\":\"\"},\"type\":\"contourcarpet\"}],\"heatmap\":[{\"colorbar\":{\"outlinewidth\":0,\"ticks\":\"\"},\"colorscale\":[[0.0,\"#0d0887\"],[0.1111111111111111,\"#46039f\"],[0.2222222222222222,\"#7201a8\"],[0.3333333333333333,\"#9c179e\"],[0.4444444444444444,\"#bd3786\"],[0.5555555555555556,\"#d8576b\"],[0.6666666666666666,\"#ed7953\"],[0.7777777777777778,\"#fb9f3a\"],[0.8888888888888888,\"#fdca26\"],[1.0,\"#f0f921\"]],\"type\":\"heatmap\"}],\"heatmapgl\":[{\"colorbar\":{\"outlinewidth\":0,\"ticks\":\"\"},\"colorscale\":[[0.0,\"#0d0887\"],[0.1111111111111111,\"#46039f\"],[0.2222222222222222,\"#7201a8\"],[0.3333333333333333,\"#9c179e\"],[0.4444444444444444,\"#bd3786\"],[0.5555555555555556,\"#d8576b\"],[0.6666666666666666,\"#ed7953\"],[0.7777777777777778,\"#fb9f3a\"],[0.8888888888888888,\"#fdca26\"],[1.0,\"#f0f921\"]],\"type\":\"heatmapgl\"}],\"histogram\":[{\"marker\":{\"pattern\":{\"fillmode\":\"overlay\",\"size\":10,\"solidity\":0.2}},\"type\":\"histogram\"}],\"histogram2d\":[{\"colorbar\":{\"outlinewidth\":0,\"ticks\":\"\"},\"colorscale\":[[0.0,\"#0d0887\"],[0.1111111111111111,\"#46039f\"],[0.2222222222222222,\"#7201a8\"],[0.3333333333333333,\"#9c179e\"],[0.4444444444444444,\"#bd3786\"],[0.5555555555555556,\"#d8576b\"],[0.6666666666666666,\"#ed7953\"],[0.7777777777777778,\"#fb9f3a\"],[0.8888888888888888,\"#fdca26\"],[1.0,\"#f0f921\"]],\"type\":\"histogram2d\"}],\"histogram2dcontour\":[{\"colorbar\":{\"outlinewidth\":0,\"ticks\":\"\"},\"colorscale\":[[0.0,\"#0d0887\"],[0.1111111111111111,\"#46039f\"],[0.2222222222222222,\"#7201a8\"],[0.3333333333333333,\"#9c179e\"],[0.4444444444444444,\"#bd3786\"],[0.5555555555555556,\"#d8576b\"],[0.6666666666666666,\"#ed7953\"],[0.7777777777777778,\"#fb9f3a\"],[0.8888888888888888,\"#fdca26\"],[1.0,\"#f0f921\"]],\"type\":\"histogram2dcontour\"}],\"mesh3d\":[{\"colorbar\":{\"outlinewidth\":0,\"ticks\":\"\"},\"type\":\"mesh3d\"}],\"parcoords\":[{\"line\":{\"colorbar\":{\"outlinewidth\":0,\"ticks\":\"\"}},\"type\":\"parcoords\"}],\"pie\":[{\"automargin\":true,\"type\":\"pie\"}],\"scatter\":[{\"marker\":{\"colorbar\":{\"outlinewidth\":0,\"ticks\":\"\"}},\"type\":\"scatter\"}],\"scatter3d\":[{\"line\":{\"colorbar\":{\"outlinewidth\":0,\"ticks\":\"\"}},\"marker\":{\"colorbar\":{\"outlinewidth\":0,\"ticks\":\"\"}},\"type\":\"scatter3d\"}],\"scattercarpet\":[{\"marker\":{\"colorbar\":{\"outlinewidth\":0,\"ticks\":\"\"}},\"type\":\"scattercarpet\"}],\"scattergeo\":[{\"marker\":{\"colorbar\":{\"outlinewidth\":0,\"ticks\":\"\"}},\"type\":\"scattergeo\"}],\"scattergl\":[{\"marker\":{\"colorbar\":{\"outlinewidth\":0,\"ticks\":\"\"}},\"type\":\"scattergl\"}],\"scattermapbox\":[{\"marker\":{\"colorbar\":{\"outlinewidth\":0,\"ticks\":\"\"}},\"type\":\"scattermapbox\"}],\"scatterpolar\":[{\"marker\":{\"colorbar\":{\"outlinewidth\":0,\"ticks\":\"\"}},\"type\":\"scatterpolar\"}],\"scatterpolargl\":[{\"marker\":{\"colorbar\":{\"outlinewidth\":0,\"ticks\":\"\"}},\"type\":\"scatterpolargl\"}],\"scatterternary\":[{\"marker\":{\"colorbar\":{\"outlinewidth\":0,\"ticks\":\"\"}},\"type\":\"scatterternary\"}],\"surface\":[{\"colorbar\":{\"outlinewidth\":0,\"ticks\":\"\"},\"colorscale\":[[0.0,\"#0d0887\"],[0.1111111111111111,\"#46039f\"],[0.2222222222222222,\"#7201a8\"],[0.3333333333333333,\"#9c179e\"],[0.4444444444444444,\"#bd3786\"],[0.5555555555555556,\"#d8576b\"],[0.6666666666666666,\"#ed7953\"],[0.7777777777777778,\"#fb9f3a\"],[0.8888888888888888,\"#fdca26\"],[1.0,\"#f0f921\"]],\"type\":\"surface\"}],\"table\":[{\"cells\":{\"fill\":{\"color\":\"#EBF0F8\"},\"line\":{\"color\":\"white\"}},\"header\":{\"fill\":{\"color\":\"#C8D4E3\"},\"line\":{\"color\":\"white\"}},\"type\":\"table\"}]},\"layout\":{\"annotationdefaults\":{\"arrowcolor\":\"#2a3f5f\",\"arrowhead\":0,\"arrowwidth\":1},\"autotypenumbers\":\"strict\",\"coloraxis\":{\"colorbar\":{\"outlinewidth\":0,\"ticks\":\"\"}},\"colorscale\":{\"diverging\":[[0,\"#8e0152\"],[0.1,\"#c51b7d\"],[0.2,\"#de77ae\"],[0.3,\"#f1b6da\"],[0.4,\"#fde0ef\"],[0.5,\"#f7f7f7\"],[0.6,\"#e6f5d0\"],[0.7,\"#b8e186\"],[0.8,\"#7fbc41\"],[0.9,\"#4d9221\"],[1,\"#276419\"]],\"sequential\":[[0.0,\"#0d0887\"],[0.1111111111111111,\"#46039f\"],[0.2222222222222222,\"#7201a8\"],[0.3333333333333333,\"#9c179e\"],[0.4444444444444444,\"#bd3786\"],[0.5555555555555556,\"#d8576b\"],[0.6666666666666666,\"#ed7953\"],[0.7777777777777778,\"#fb9f3a\"],[0.8888888888888888,\"#fdca26\"],[1.0,\"#f0f921\"]],\"sequentialminus\":[[0.0,\"#0d0887\"],[0.1111111111111111,\"#46039f\"],[0.2222222222222222,\"#7201a8\"],[0.3333333333333333,\"#9c179e\"],[0.4444444444444444,\"#bd3786\"],[0.5555555555555556,\"#d8576b\"],[0.6666666666666666,\"#ed7953\"],[0.7777777777777778,\"#fb9f3a\"],[0.8888888888888888,\"#fdca26\"],[1.0,\"#f0f921\"]]},\"colorway\":[\"#636efa\",\"#EF553B\",\"#00cc96\",\"#ab63fa\",\"#FFA15A\",\"#19d3f3\",\"#FF6692\",\"#B6E880\",\"#FF97FF\",\"#FECB52\"],\"font\":{\"color\":\"#2a3f5f\"},\"geo\":{\"bgcolor\":\"white\",\"lakecolor\":\"white\",\"landcolor\":\"#E5ECF6\",\"showlakes\":true,\"showland\":true,\"subunitcolor\":\"white\"},\"hoverlabel\":{\"align\":\"left\"},\"hovermode\":\"closest\",\"mapbox\":{\"style\":\"light\"},\"paper_bgcolor\":\"white\",\"plot_bgcolor\":\"#E5ECF6\",\"polar\":{\"angularaxis\":{\"gridcolor\":\"white\",\"linecolor\":\"white\",\"ticks\":\"\"},\"bgcolor\":\"#E5ECF6\",\"radialaxis\":{\"gridcolor\":\"white\",\"linecolor\":\"white\",\"ticks\":\"\"}},\"scene\":{\"xaxis\":{\"backgroundcolor\":\"#E5ECF6\",\"gridcolor\":\"white\",\"gridwidth\":2,\"linecolor\":\"white\",\"showbackground\":true,\"ticks\":\"\",\"zerolinecolor\":\"white\"},\"yaxis\":{\"backgroundcolor\":\"#E5ECF6\",\"gridcolor\":\"white\",\"gridwidth\":2,\"linecolor\":\"white\",\"showbackground\":true,\"ticks\":\"\",\"zerolinecolor\":\"white\"},\"zaxis\":{\"backgroundcolor\":\"#E5ECF6\",\"gridcolor\":\"white\",\"gridwidth\":2,\"linecolor\":\"white\",\"showbackground\":true,\"ticks\":\"\",\"zerolinecolor\":\"white\"}},\"shapedefaults\":{\"line\":{\"color\":\"#2a3f5f\"}},\"ternary\":{\"aaxis\":{\"gridcolor\":\"white\",\"linecolor\":\"white\",\"ticks\":\"\"},\"baxis\":{\"gridcolor\":\"white\",\"linecolor\":\"white\",\"ticks\":\"\"},\"bgcolor\":\"#E5ECF6\",\"caxis\":{\"gridcolor\":\"white\",\"linecolor\":\"white\",\"ticks\":\"\"}},\"title\":{\"x\":0.05},\"xaxis\":{\"automargin\":true,\"gridcolor\":\"white\",\"linecolor\":\"white\",\"ticks\":\"\",\"title\":{\"standoff\":15},\"zerolinecolor\":\"white\",\"zerolinewidth\":2},\"yaxis\":{\"automargin\":true,\"gridcolor\":\"white\",\"linecolor\":\"white\",\"ticks\":\"\",\"title\":{\"standoff\":15},\"zerolinecolor\":\"white\",\"zerolinewidth\":2}}}},                        {\"responsive\": true}                    ).then(function(){\n",
              "                            \n",
              "var gd = document.getElementById('0fe7f376-e947-473f-bf70-e5b1fc3e039c');\n",
              "var x = new MutationObserver(function (mutations, observer) {{\n",
              "        var display = window.getComputedStyle(gd).display;\n",
              "        if (!display || display === 'none') {{\n",
              "            console.log([gd, 'removed!']);\n",
              "            Plotly.purge(gd);\n",
              "            observer.disconnect();\n",
              "        }}\n",
              "}});\n",
              "\n",
              "// Listen for the removal of the full notebook cells\n",
              "var notebookContainer = gd.closest('#notebook-container');\n",
              "if (notebookContainer) {{\n",
              "    x.observe(notebookContainer, {childList: true});\n",
              "}}\n",
              "\n",
              "// Listen for the clearing of the current output cell\n",
              "var outputEl = gd.closest('.output');\n",
              "if (outputEl) {{\n",
              "    x.observe(outputEl, {childList: true});\n",
              "}}\n",
              "\n",
              "                        })                };                            </script>        </div>\n",
              "</body>\n",
              "</html>"
            ]
          },
          "metadata": {}
        }
      ],
      "source": [
        "data = go.Pie(\n",
        "    labels=type_value_counts.index,\n",
        "    values=type_value_counts.values,\n",
        "    hole=0.5,\n",
        "    textinfo=\"percent+label\",\n",
        "    textfont={\"size\": 12},\n",
        "    hoverinfo=\"text+label+value\",\n",
        "    textposition='inside',\n",
        "    showlegend=False,\n",
        ")\n",
        "layout = go.Layout(\n",
        "    title={\n",
        "        \"text\": \"Monster Counts by Types\",\n",
        "        \"font\": {\"color\": \"white\", \"size\": 24},\n",
        "    },\n",
        "    colorway=px.colors.qualitative.Antique,\n",
        "    width=640,\n",
        "    height=640,\n",
        "    paper_bgcolor=\"#333333\",\n",
        ")\n",
        "figure = go.Figure(data, layout)\n",
        "figure.show()"
      ],
      "metadata": {
        "pycharm": {
          "name": "#%%\n"
        },
        "colab": {
          "base_uri": "https://localhost:8080/",
          "height": 657
        },
        "id": "0nBDx24eTzj3",
        "outputId": "d2304daf-d693-4a9e-dec6-07eaee42e5a3"
      }
    },
    {
      "cell_type": "markdown",
      "source": [
        "### Wrap it in a Function\n",
        "This will encapsulate our graphing code. That means we can change the implementation later without too much trouble.\n",
        "For example, we could change to using Altair instead of Plotly, and the rest of the system wouldn't break."
      ],
      "metadata": {
        "collapsed": false,
        "id": "mHv8Ia1lTzj4"
      }
    },
    {
      "cell_type": "code",
      "execution_count": 38,
      "outputs": [],
      "source": [
        "def pie_chart(title: str, labels: Sequence, values: Sequence) -> go.Figure:\n",
        "    return go.Figure(\n",
        "        go.Pie(\n",
        "            labels=labels,\n",
        "            values=values,\n",
        "            hole=0.5,\n",
        "            textinfo=\"percent+label\",\n",
        "            textfont={\"size\": 12},\n",
        "            hoverinfo=\"text+label+value\",\n",
        "            textposition='inside',\n",
        "            showlegend=False,\n",
        "        ),\n",
        "        go.Layout(\n",
        "            title={\n",
        "                \"text\": title,\n",
        "                \"font\": {\"color\": \"white\", \"size\": 24},\n",
        "            },\n",
        "            colorway=px.colors.qualitative.Antique,\n",
        "            width=640,\n",
        "            height=640,\n",
        "            paper_bgcolor=\"#333333\",\n",
        "        ),\n",
        "    )"
      ],
      "metadata": {
        "pycharm": {
          "name": "#%%\n"
        },
        "id": "I5plvHuZTzj4"
      }
    },
    {
      "cell_type": "code",
      "execution_count": 39,
      "outputs": [
        {
          "output_type": "display_data",
          "data": {
            "text/html": [
              "<html>\n",
              "<head><meta charset=\"utf-8\" /></head>\n",
              "<body>\n",
              "    <div>            <script src=\"https://cdnjs.cloudflare.com/ajax/libs/mathjax/2.7.5/MathJax.js?config=TeX-AMS-MML_SVG\"></script><script type=\"text/javascript\">if (window.MathJax) {MathJax.Hub.Config({SVG: {font: \"STIX-Web\"}});}</script>                <script type=\"text/javascript\">window.PlotlyConfig = {MathJaxConfig: 'local'};</script>\n",
              "        <script src=\"https://cdn.plot.ly/plotly-2.8.3.min.js\"></script>                <div id=\"e82dcfdb-7d45-4f67-af5a-dd11927cfa6a\" class=\"plotly-graph-div\" style=\"height:640px; width:640px;\"></div>            <script type=\"text/javascript\">                                    window.PLOTLYENV=window.PLOTLYENV || {};                                    if (document.getElementById(\"e82dcfdb-7d45-4f67-af5a-dd11927cfa6a\")) {                    Plotly.newPlot(                        \"e82dcfdb-7d45-4f67-af5a-dd11927cfa6a\",                        [{\"hole\":0.5,\"hoverinfo\":\"text+label+value\",\"labels\":[\"Devilkin\",\"Demonic\",\"Undead\",\"Fey\",\"Dragon\",\"Elemental\"],\"showlegend\":false,\"textfont\":{\"size\":12},\"textinfo\":\"percent+label\",\"textposition\":\"inside\",\"values\":[174,171,168,164,162,161],\"type\":\"pie\"}],                        {\"colorway\":[\"rgb(133, 92, 117)\",\"rgb(217, 175, 107)\",\"rgb(175, 100, 88)\",\"rgb(115, 111, 76)\",\"rgb(82, 106, 131)\",\"rgb(98, 83, 119)\",\"rgb(104, 133, 92)\",\"rgb(156, 156, 94)\",\"rgb(160, 97, 119)\",\"rgb(140, 120, 93)\",\"rgb(124, 124, 124)\"],\"height\":640,\"paper_bgcolor\":\"#333333\",\"title\":{\"font\":{\"color\":\"white\",\"size\":24},\"text\":\"Monster Count by Type\"},\"width\":640,\"template\":{\"data\":{\"bar\":[{\"error_x\":{\"color\":\"#2a3f5f\"},\"error_y\":{\"color\":\"#2a3f5f\"},\"marker\":{\"line\":{\"color\":\"#E5ECF6\",\"width\":0.5},\"pattern\":{\"fillmode\":\"overlay\",\"size\":10,\"solidity\":0.2}},\"type\":\"bar\"}],\"barpolar\":[{\"marker\":{\"line\":{\"color\":\"#E5ECF6\",\"width\":0.5},\"pattern\":{\"fillmode\":\"overlay\",\"size\":10,\"solidity\":0.2}},\"type\":\"barpolar\"}],\"carpet\":[{\"aaxis\":{\"endlinecolor\":\"#2a3f5f\",\"gridcolor\":\"white\",\"linecolor\":\"white\",\"minorgridcolor\":\"white\",\"startlinecolor\":\"#2a3f5f\"},\"baxis\":{\"endlinecolor\":\"#2a3f5f\",\"gridcolor\":\"white\",\"linecolor\":\"white\",\"minorgridcolor\":\"white\",\"startlinecolor\":\"#2a3f5f\"},\"type\":\"carpet\"}],\"choropleth\":[{\"colorbar\":{\"outlinewidth\":0,\"ticks\":\"\"},\"type\":\"choropleth\"}],\"contour\":[{\"colorbar\":{\"outlinewidth\":0,\"ticks\":\"\"},\"colorscale\":[[0.0,\"#0d0887\"],[0.1111111111111111,\"#46039f\"],[0.2222222222222222,\"#7201a8\"],[0.3333333333333333,\"#9c179e\"],[0.4444444444444444,\"#bd3786\"],[0.5555555555555556,\"#d8576b\"],[0.6666666666666666,\"#ed7953\"],[0.7777777777777778,\"#fb9f3a\"],[0.8888888888888888,\"#fdca26\"],[1.0,\"#f0f921\"]],\"type\":\"contour\"}],\"contourcarpet\":[{\"colorbar\":{\"outlinewidth\":0,\"ticks\":\"\"},\"type\":\"contourcarpet\"}],\"heatmap\":[{\"colorbar\":{\"outlinewidth\":0,\"ticks\":\"\"},\"colorscale\":[[0.0,\"#0d0887\"],[0.1111111111111111,\"#46039f\"],[0.2222222222222222,\"#7201a8\"],[0.3333333333333333,\"#9c179e\"],[0.4444444444444444,\"#bd3786\"],[0.5555555555555556,\"#d8576b\"],[0.6666666666666666,\"#ed7953\"],[0.7777777777777778,\"#fb9f3a\"],[0.8888888888888888,\"#fdca26\"],[1.0,\"#f0f921\"]],\"type\":\"heatmap\"}],\"heatmapgl\":[{\"colorbar\":{\"outlinewidth\":0,\"ticks\":\"\"},\"colorscale\":[[0.0,\"#0d0887\"],[0.1111111111111111,\"#46039f\"],[0.2222222222222222,\"#7201a8\"],[0.3333333333333333,\"#9c179e\"],[0.4444444444444444,\"#bd3786\"],[0.5555555555555556,\"#d8576b\"],[0.6666666666666666,\"#ed7953\"],[0.7777777777777778,\"#fb9f3a\"],[0.8888888888888888,\"#fdca26\"],[1.0,\"#f0f921\"]],\"type\":\"heatmapgl\"}],\"histogram\":[{\"marker\":{\"pattern\":{\"fillmode\":\"overlay\",\"size\":10,\"solidity\":0.2}},\"type\":\"histogram\"}],\"histogram2d\":[{\"colorbar\":{\"outlinewidth\":0,\"ticks\":\"\"},\"colorscale\":[[0.0,\"#0d0887\"],[0.1111111111111111,\"#46039f\"],[0.2222222222222222,\"#7201a8\"],[0.3333333333333333,\"#9c179e\"],[0.4444444444444444,\"#bd3786\"],[0.5555555555555556,\"#d8576b\"],[0.6666666666666666,\"#ed7953\"],[0.7777777777777778,\"#fb9f3a\"],[0.8888888888888888,\"#fdca26\"],[1.0,\"#f0f921\"]],\"type\":\"histogram2d\"}],\"histogram2dcontour\":[{\"colorbar\":{\"outlinewidth\":0,\"ticks\":\"\"},\"colorscale\":[[0.0,\"#0d0887\"],[0.1111111111111111,\"#46039f\"],[0.2222222222222222,\"#7201a8\"],[0.3333333333333333,\"#9c179e\"],[0.4444444444444444,\"#bd3786\"],[0.5555555555555556,\"#d8576b\"],[0.6666666666666666,\"#ed7953\"],[0.7777777777777778,\"#fb9f3a\"],[0.8888888888888888,\"#fdca26\"],[1.0,\"#f0f921\"]],\"type\":\"histogram2dcontour\"}],\"mesh3d\":[{\"colorbar\":{\"outlinewidth\":0,\"ticks\":\"\"},\"type\":\"mesh3d\"}],\"parcoords\":[{\"line\":{\"colorbar\":{\"outlinewidth\":0,\"ticks\":\"\"}},\"type\":\"parcoords\"}],\"pie\":[{\"automargin\":true,\"type\":\"pie\"}],\"scatter\":[{\"marker\":{\"colorbar\":{\"outlinewidth\":0,\"ticks\":\"\"}},\"type\":\"scatter\"}],\"scatter3d\":[{\"line\":{\"colorbar\":{\"outlinewidth\":0,\"ticks\":\"\"}},\"marker\":{\"colorbar\":{\"outlinewidth\":0,\"ticks\":\"\"}},\"type\":\"scatter3d\"}],\"scattercarpet\":[{\"marker\":{\"colorbar\":{\"outlinewidth\":0,\"ticks\":\"\"}},\"type\":\"scattercarpet\"}],\"scattergeo\":[{\"marker\":{\"colorbar\":{\"outlinewidth\":0,\"ticks\":\"\"}},\"type\":\"scattergeo\"}],\"scattergl\":[{\"marker\":{\"colorbar\":{\"outlinewidth\":0,\"ticks\":\"\"}},\"type\":\"scattergl\"}],\"scattermapbox\":[{\"marker\":{\"colorbar\":{\"outlinewidth\":0,\"ticks\":\"\"}},\"type\":\"scattermapbox\"}],\"scatterpolar\":[{\"marker\":{\"colorbar\":{\"outlinewidth\":0,\"ticks\":\"\"}},\"type\":\"scatterpolar\"}],\"scatterpolargl\":[{\"marker\":{\"colorbar\":{\"outlinewidth\":0,\"ticks\":\"\"}},\"type\":\"scatterpolargl\"}],\"scatterternary\":[{\"marker\":{\"colorbar\":{\"outlinewidth\":0,\"ticks\":\"\"}},\"type\":\"scatterternary\"}],\"surface\":[{\"colorbar\":{\"outlinewidth\":0,\"ticks\":\"\"},\"colorscale\":[[0.0,\"#0d0887\"],[0.1111111111111111,\"#46039f\"],[0.2222222222222222,\"#7201a8\"],[0.3333333333333333,\"#9c179e\"],[0.4444444444444444,\"#bd3786\"],[0.5555555555555556,\"#d8576b\"],[0.6666666666666666,\"#ed7953\"],[0.7777777777777778,\"#fb9f3a\"],[0.8888888888888888,\"#fdca26\"],[1.0,\"#f0f921\"]],\"type\":\"surface\"}],\"table\":[{\"cells\":{\"fill\":{\"color\":\"#EBF0F8\"},\"line\":{\"color\":\"white\"}},\"header\":{\"fill\":{\"color\":\"#C8D4E3\"},\"line\":{\"color\":\"white\"}},\"type\":\"table\"}]},\"layout\":{\"annotationdefaults\":{\"arrowcolor\":\"#2a3f5f\",\"arrowhead\":0,\"arrowwidth\":1},\"autotypenumbers\":\"strict\",\"coloraxis\":{\"colorbar\":{\"outlinewidth\":0,\"ticks\":\"\"}},\"colorscale\":{\"diverging\":[[0,\"#8e0152\"],[0.1,\"#c51b7d\"],[0.2,\"#de77ae\"],[0.3,\"#f1b6da\"],[0.4,\"#fde0ef\"],[0.5,\"#f7f7f7\"],[0.6,\"#e6f5d0\"],[0.7,\"#b8e186\"],[0.8,\"#7fbc41\"],[0.9,\"#4d9221\"],[1,\"#276419\"]],\"sequential\":[[0.0,\"#0d0887\"],[0.1111111111111111,\"#46039f\"],[0.2222222222222222,\"#7201a8\"],[0.3333333333333333,\"#9c179e\"],[0.4444444444444444,\"#bd3786\"],[0.5555555555555556,\"#d8576b\"],[0.6666666666666666,\"#ed7953\"],[0.7777777777777778,\"#fb9f3a\"],[0.8888888888888888,\"#fdca26\"],[1.0,\"#f0f921\"]],\"sequentialminus\":[[0.0,\"#0d0887\"],[0.1111111111111111,\"#46039f\"],[0.2222222222222222,\"#7201a8\"],[0.3333333333333333,\"#9c179e\"],[0.4444444444444444,\"#bd3786\"],[0.5555555555555556,\"#d8576b\"],[0.6666666666666666,\"#ed7953\"],[0.7777777777777778,\"#fb9f3a\"],[0.8888888888888888,\"#fdca26\"],[1.0,\"#f0f921\"]]},\"colorway\":[\"#636efa\",\"#EF553B\",\"#00cc96\",\"#ab63fa\",\"#FFA15A\",\"#19d3f3\",\"#FF6692\",\"#B6E880\",\"#FF97FF\",\"#FECB52\"],\"font\":{\"color\":\"#2a3f5f\"},\"geo\":{\"bgcolor\":\"white\",\"lakecolor\":\"white\",\"landcolor\":\"#E5ECF6\",\"showlakes\":true,\"showland\":true,\"subunitcolor\":\"white\"},\"hoverlabel\":{\"align\":\"left\"},\"hovermode\":\"closest\",\"mapbox\":{\"style\":\"light\"},\"paper_bgcolor\":\"white\",\"plot_bgcolor\":\"#E5ECF6\",\"polar\":{\"angularaxis\":{\"gridcolor\":\"white\",\"linecolor\":\"white\",\"ticks\":\"\"},\"bgcolor\":\"#E5ECF6\",\"radialaxis\":{\"gridcolor\":\"white\",\"linecolor\":\"white\",\"ticks\":\"\"}},\"scene\":{\"xaxis\":{\"backgroundcolor\":\"#E5ECF6\",\"gridcolor\":\"white\",\"gridwidth\":2,\"linecolor\":\"white\",\"showbackground\":true,\"ticks\":\"\",\"zerolinecolor\":\"white\"},\"yaxis\":{\"backgroundcolor\":\"#E5ECF6\",\"gridcolor\":\"white\",\"gridwidth\":2,\"linecolor\":\"white\",\"showbackground\":true,\"ticks\":\"\",\"zerolinecolor\":\"white\"},\"zaxis\":{\"backgroundcolor\":\"#E5ECF6\",\"gridcolor\":\"white\",\"gridwidth\":2,\"linecolor\":\"white\",\"showbackground\":true,\"ticks\":\"\",\"zerolinecolor\":\"white\"}},\"shapedefaults\":{\"line\":{\"color\":\"#2a3f5f\"}},\"ternary\":{\"aaxis\":{\"gridcolor\":\"white\",\"linecolor\":\"white\",\"ticks\":\"\"},\"baxis\":{\"gridcolor\":\"white\",\"linecolor\":\"white\",\"ticks\":\"\"},\"bgcolor\":\"#E5ECF6\",\"caxis\":{\"gridcolor\":\"white\",\"linecolor\":\"white\",\"ticks\":\"\"}},\"title\":{\"x\":0.05},\"xaxis\":{\"automargin\":true,\"gridcolor\":\"white\",\"linecolor\":\"white\",\"ticks\":\"\",\"title\":{\"standoff\":15},\"zerolinecolor\":\"white\",\"zerolinewidth\":2},\"yaxis\":{\"automargin\":true,\"gridcolor\":\"white\",\"linecolor\":\"white\",\"ticks\":\"\",\"title\":{\"standoff\":15},\"zerolinecolor\":\"white\",\"zerolinewidth\":2}}}},                        {\"responsive\": true}                    ).then(function(){\n",
              "                            \n",
              "var gd = document.getElementById('e82dcfdb-7d45-4f67-af5a-dd11927cfa6a');\n",
              "var x = new MutationObserver(function (mutations, observer) {{\n",
              "        var display = window.getComputedStyle(gd).display;\n",
              "        if (!display || display === 'none') {{\n",
              "            console.log([gd, 'removed!']);\n",
              "            Plotly.purge(gd);\n",
              "            observer.disconnect();\n",
              "        }}\n",
              "}});\n",
              "\n",
              "// Listen for the removal of the full notebook cells\n",
              "var notebookContainer = gd.closest('#notebook-container');\n",
              "if (notebookContainer) {{\n",
              "    x.observe(notebookContainer, {childList: true});\n",
              "}}\n",
              "\n",
              "// Listen for the clearing of the current output cell\n",
              "var outputEl = gd.closest('.output');\n",
              "if (outputEl) {{\n",
              "    x.observe(outputEl, {childList: true});\n",
              "}}\n",
              "\n",
              "                        })                };                            </script>        </div>\n",
              "</body>\n",
              "</html>"
            ]
          },
          "metadata": {}
        }
      ],
      "source": [
        "# This should produce the same graph as above\n",
        "pie_chart(\n",
        "    \"Monster Count by Type\",\n",
        "    type_value_counts.index,\n",
        "    type_value_counts.values,\n",
        ").show()"
      ],
      "metadata": {
        "pycharm": {
          "name": "#%%\n"
        },
        "colab": {
          "base_uri": "https://localhost:8080/",
          "height": 657
        },
        "id": "a2TNZWaUTzj4",
        "outputId": "51ceeb87-0b1a-48a6-f194-1772b8370b04"
      }
    },
    {
      "cell_type": "markdown",
      "source": [
        "### New Data, New Graph, Same Function"
      ],
      "metadata": {
        "collapsed": false,
        "id": "8ZY9lEzCTzj4"
      }
    },
    {
      "cell_type": "code",
      "execution_count": 40,
      "outputs": [
        {
          "output_type": "execute_result",
          "data": {
            "text/plain": [
              "Rank 0    41\n",
              "Rank 1    36\n",
              "Rank 2    32\n",
              "Rank 3    27\n",
              "Rank 4    17\n",
              "Rank 5     9\n",
              "Name: rarity, dtype: int64"
            ]
          },
          "metadata": {},
          "execution_count": 40
        }
      ],
      "source": [
        "df_dragon_rarity = DataFrame(\n",
        "    db.find({\"type\": \"Dragon\"}, projection={\"_id\": False, \"rarity\": True}),\n",
        ")\n",
        "dragon_rarity_counts = df_dragon_rarity[\"rarity\"].value_counts().sort_index()\n",
        "dragon_rarity_counts"
      ],
      "metadata": {
        "pycharm": {
          "name": "#%%\n"
        },
        "colab": {
          "base_uri": "https://localhost:8080/"
        },
        "id": "dZyO_KxDTzj4",
        "outputId": "312af3dc-167a-4b85-b841-f8f7edc41ab5"
      }
    },
    {
      "cell_type": "code",
      "execution_count": 41,
      "outputs": [
        {
          "output_type": "display_data",
          "data": {
            "text/html": [
              "<html>\n",
              "<head><meta charset=\"utf-8\" /></head>\n",
              "<body>\n",
              "    <div>            <script src=\"https://cdnjs.cloudflare.com/ajax/libs/mathjax/2.7.5/MathJax.js?config=TeX-AMS-MML_SVG\"></script><script type=\"text/javascript\">if (window.MathJax) {MathJax.Hub.Config({SVG: {font: \"STIX-Web\"}});}</script>                <script type=\"text/javascript\">window.PlotlyConfig = {MathJaxConfig: 'local'};</script>\n",
              "        <script src=\"https://cdn.plot.ly/plotly-2.8.3.min.js\"></script>                <div id=\"0801d6b0-a7c5-4c17-8460-c3fd18ece3e8\" class=\"plotly-graph-div\" style=\"height:640px; width:640px;\"></div>            <script type=\"text/javascript\">                                    window.PLOTLYENV=window.PLOTLYENV || {};                                    if (document.getElementById(\"0801d6b0-a7c5-4c17-8460-c3fd18ece3e8\")) {                    Plotly.newPlot(                        \"0801d6b0-a7c5-4c17-8460-c3fd18ece3e8\",                        [{\"hole\":0.5,\"hoverinfo\":\"text+label+value\",\"labels\":[\"Rank 0\",\"Rank 1\",\"Rank 2\",\"Rank 3\",\"Rank 4\",\"Rank 5\"],\"showlegend\":false,\"textfont\":{\"size\":12},\"textinfo\":\"percent+label\",\"textposition\":\"inside\",\"values\":[41,36,32,27,17,9],\"type\":\"pie\"}],                        {\"colorway\":[\"rgb(133, 92, 117)\",\"rgb(217, 175, 107)\",\"rgb(175, 100, 88)\",\"rgb(115, 111, 76)\",\"rgb(82, 106, 131)\",\"rgb(98, 83, 119)\",\"rgb(104, 133, 92)\",\"rgb(156, 156, 94)\",\"rgb(160, 97, 119)\",\"rgb(140, 120, 93)\",\"rgb(124, 124, 124)\"],\"height\":640,\"paper_bgcolor\":\"#333333\",\"title\":{\"font\":{\"color\":\"white\",\"size\":24},\"text\":\"Dragon Count by Rarity\"},\"width\":640,\"template\":{\"data\":{\"bar\":[{\"error_x\":{\"color\":\"#2a3f5f\"},\"error_y\":{\"color\":\"#2a3f5f\"},\"marker\":{\"line\":{\"color\":\"#E5ECF6\",\"width\":0.5},\"pattern\":{\"fillmode\":\"overlay\",\"size\":10,\"solidity\":0.2}},\"type\":\"bar\"}],\"barpolar\":[{\"marker\":{\"line\":{\"color\":\"#E5ECF6\",\"width\":0.5},\"pattern\":{\"fillmode\":\"overlay\",\"size\":10,\"solidity\":0.2}},\"type\":\"barpolar\"}],\"carpet\":[{\"aaxis\":{\"endlinecolor\":\"#2a3f5f\",\"gridcolor\":\"white\",\"linecolor\":\"white\",\"minorgridcolor\":\"white\",\"startlinecolor\":\"#2a3f5f\"},\"baxis\":{\"endlinecolor\":\"#2a3f5f\",\"gridcolor\":\"white\",\"linecolor\":\"white\",\"minorgridcolor\":\"white\",\"startlinecolor\":\"#2a3f5f\"},\"type\":\"carpet\"}],\"choropleth\":[{\"colorbar\":{\"outlinewidth\":0,\"ticks\":\"\"},\"type\":\"choropleth\"}],\"contour\":[{\"colorbar\":{\"outlinewidth\":0,\"ticks\":\"\"},\"colorscale\":[[0.0,\"#0d0887\"],[0.1111111111111111,\"#46039f\"],[0.2222222222222222,\"#7201a8\"],[0.3333333333333333,\"#9c179e\"],[0.4444444444444444,\"#bd3786\"],[0.5555555555555556,\"#d8576b\"],[0.6666666666666666,\"#ed7953\"],[0.7777777777777778,\"#fb9f3a\"],[0.8888888888888888,\"#fdca26\"],[1.0,\"#f0f921\"]],\"type\":\"contour\"}],\"contourcarpet\":[{\"colorbar\":{\"outlinewidth\":0,\"ticks\":\"\"},\"type\":\"contourcarpet\"}],\"heatmap\":[{\"colorbar\":{\"outlinewidth\":0,\"ticks\":\"\"},\"colorscale\":[[0.0,\"#0d0887\"],[0.1111111111111111,\"#46039f\"],[0.2222222222222222,\"#7201a8\"],[0.3333333333333333,\"#9c179e\"],[0.4444444444444444,\"#bd3786\"],[0.5555555555555556,\"#d8576b\"],[0.6666666666666666,\"#ed7953\"],[0.7777777777777778,\"#fb9f3a\"],[0.8888888888888888,\"#fdca26\"],[1.0,\"#f0f921\"]],\"type\":\"heatmap\"}],\"heatmapgl\":[{\"colorbar\":{\"outlinewidth\":0,\"ticks\":\"\"},\"colorscale\":[[0.0,\"#0d0887\"],[0.1111111111111111,\"#46039f\"],[0.2222222222222222,\"#7201a8\"],[0.3333333333333333,\"#9c179e\"],[0.4444444444444444,\"#bd3786\"],[0.5555555555555556,\"#d8576b\"],[0.6666666666666666,\"#ed7953\"],[0.7777777777777778,\"#fb9f3a\"],[0.8888888888888888,\"#fdca26\"],[1.0,\"#f0f921\"]],\"type\":\"heatmapgl\"}],\"histogram\":[{\"marker\":{\"pattern\":{\"fillmode\":\"overlay\",\"size\":10,\"solidity\":0.2}},\"type\":\"histogram\"}],\"histogram2d\":[{\"colorbar\":{\"outlinewidth\":0,\"ticks\":\"\"},\"colorscale\":[[0.0,\"#0d0887\"],[0.1111111111111111,\"#46039f\"],[0.2222222222222222,\"#7201a8\"],[0.3333333333333333,\"#9c179e\"],[0.4444444444444444,\"#bd3786\"],[0.5555555555555556,\"#d8576b\"],[0.6666666666666666,\"#ed7953\"],[0.7777777777777778,\"#fb9f3a\"],[0.8888888888888888,\"#fdca26\"],[1.0,\"#f0f921\"]],\"type\":\"histogram2d\"}],\"histogram2dcontour\":[{\"colorbar\":{\"outlinewidth\":0,\"ticks\":\"\"},\"colorscale\":[[0.0,\"#0d0887\"],[0.1111111111111111,\"#46039f\"],[0.2222222222222222,\"#7201a8\"],[0.3333333333333333,\"#9c179e\"],[0.4444444444444444,\"#bd3786\"],[0.5555555555555556,\"#d8576b\"],[0.6666666666666666,\"#ed7953\"],[0.7777777777777778,\"#fb9f3a\"],[0.8888888888888888,\"#fdca26\"],[1.0,\"#f0f921\"]],\"type\":\"histogram2dcontour\"}],\"mesh3d\":[{\"colorbar\":{\"outlinewidth\":0,\"ticks\":\"\"},\"type\":\"mesh3d\"}],\"parcoords\":[{\"line\":{\"colorbar\":{\"outlinewidth\":0,\"ticks\":\"\"}},\"type\":\"parcoords\"}],\"pie\":[{\"automargin\":true,\"type\":\"pie\"}],\"scatter\":[{\"marker\":{\"colorbar\":{\"outlinewidth\":0,\"ticks\":\"\"}},\"type\":\"scatter\"}],\"scatter3d\":[{\"line\":{\"colorbar\":{\"outlinewidth\":0,\"ticks\":\"\"}},\"marker\":{\"colorbar\":{\"outlinewidth\":0,\"ticks\":\"\"}},\"type\":\"scatter3d\"}],\"scattercarpet\":[{\"marker\":{\"colorbar\":{\"outlinewidth\":0,\"ticks\":\"\"}},\"type\":\"scattercarpet\"}],\"scattergeo\":[{\"marker\":{\"colorbar\":{\"outlinewidth\":0,\"ticks\":\"\"}},\"type\":\"scattergeo\"}],\"scattergl\":[{\"marker\":{\"colorbar\":{\"outlinewidth\":0,\"ticks\":\"\"}},\"type\":\"scattergl\"}],\"scattermapbox\":[{\"marker\":{\"colorbar\":{\"outlinewidth\":0,\"ticks\":\"\"}},\"type\":\"scattermapbox\"}],\"scatterpolar\":[{\"marker\":{\"colorbar\":{\"outlinewidth\":0,\"ticks\":\"\"}},\"type\":\"scatterpolar\"}],\"scatterpolargl\":[{\"marker\":{\"colorbar\":{\"outlinewidth\":0,\"ticks\":\"\"}},\"type\":\"scatterpolargl\"}],\"scatterternary\":[{\"marker\":{\"colorbar\":{\"outlinewidth\":0,\"ticks\":\"\"}},\"type\":\"scatterternary\"}],\"surface\":[{\"colorbar\":{\"outlinewidth\":0,\"ticks\":\"\"},\"colorscale\":[[0.0,\"#0d0887\"],[0.1111111111111111,\"#46039f\"],[0.2222222222222222,\"#7201a8\"],[0.3333333333333333,\"#9c179e\"],[0.4444444444444444,\"#bd3786\"],[0.5555555555555556,\"#d8576b\"],[0.6666666666666666,\"#ed7953\"],[0.7777777777777778,\"#fb9f3a\"],[0.8888888888888888,\"#fdca26\"],[1.0,\"#f0f921\"]],\"type\":\"surface\"}],\"table\":[{\"cells\":{\"fill\":{\"color\":\"#EBF0F8\"},\"line\":{\"color\":\"white\"}},\"header\":{\"fill\":{\"color\":\"#C8D4E3\"},\"line\":{\"color\":\"white\"}},\"type\":\"table\"}]},\"layout\":{\"annotationdefaults\":{\"arrowcolor\":\"#2a3f5f\",\"arrowhead\":0,\"arrowwidth\":1},\"autotypenumbers\":\"strict\",\"coloraxis\":{\"colorbar\":{\"outlinewidth\":0,\"ticks\":\"\"}},\"colorscale\":{\"diverging\":[[0,\"#8e0152\"],[0.1,\"#c51b7d\"],[0.2,\"#de77ae\"],[0.3,\"#f1b6da\"],[0.4,\"#fde0ef\"],[0.5,\"#f7f7f7\"],[0.6,\"#e6f5d0\"],[0.7,\"#b8e186\"],[0.8,\"#7fbc41\"],[0.9,\"#4d9221\"],[1,\"#276419\"]],\"sequential\":[[0.0,\"#0d0887\"],[0.1111111111111111,\"#46039f\"],[0.2222222222222222,\"#7201a8\"],[0.3333333333333333,\"#9c179e\"],[0.4444444444444444,\"#bd3786\"],[0.5555555555555556,\"#d8576b\"],[0.6666666666666666,\"#ed7953\"],[0.7777777777777778,\"#fb9f3a\"],[0.8888888888888888,\"#fdca26\"],[1.0,\"#f0f921\"]],\"sequentialminus\":[[0.0,\"#0d0887\"],[0.1111111111111111,\"#46039f\"],[0.2222222222222222,\"#7201a8\"],[0.3333333333333333,\"#9c179e\"],[0.4444444444444444,\"#bd3786\"],[0.5555555555555556,\"#d8576b\"],[0.6666666666666666,\"#ed7953\"],[0.7777777777777778,\"#fb9f3a\"],[0.8888888888888888,\"#fdca26\"],[1.0,\"#f0f921\"]]},\"colorway\":[\"#636efa\",\"#EF553B\",\"#00cc96\",\"#ab63fa\",\"#FFA15A\",\"#19d3f3\",\"#FF6692\",\"#B6E880\",\"#FF97FF\",\"#FECB52\"],\"font\":{\"color\":\"#2a3f5f\"},\"geo\":{\"bgcolor\":\"white\",\"lakecolor\":\"white\",\"landcolor\":\"#E5ECF6\",\"showlakes\":true,\"showland\":true,\"subunitcolor\":\"white\"},\"hoverlabel\":{\"align\":\"left\"},\"hovermode\":\"closest\",\"mapbox\":{\"style\":\"light\"},\"paper_bgcolor\":\"white\",\"plot_bgcolor\":\"#E5ECF6\",\"polar\":{\"angularaxis\":{\"gridcolor\":\"white\",\"linecolor\":\"white\",\"ticks\":\"\"},\"bgcolor\":\"#E5ECF6\",\"radialaxis\":{\"gridcolor\":\"white\",\"linecolor\":\"white\",\"ticks\":\"\"}},\"scene\":{\"xaxis\":{\"backgroundcolor\":\"#E5ECF6\",\"gridcolor\":\"white\",\"gridwidth\":2,\"linecolor\":\"white\",\"showbackground\":true,\"ticks\":\"\",\"zerolinecolor\":\"white\"},\"yaxis\":{\"backgroundcolor\":\"#E5ECF6\",\"gridcolor\":\"white\",\"gridwidth\":2,\"linecolor\":\"white\",\"showbackground\":true,\"ticks\":\"\",\"zerolinecolor\":\"white\"},\"zaxis\":{\"backgroundcolor\":\"#E5ECF6\",\"gridcolor\":\"white\",\"gridwidth\":2,\"linecolor\":\"white\",\"showbackground\":true,\"ticks\":\"\",\"zerolinecolor\":\"white\"}},\"shapedefaults\":{\"line\":{\"color\":\"#2a3f5f\"}},\"ternary\":{\"aaxis\":{\"gridcolor\":\"white\",\"linecolor\":\"white\",\"ticks\":\"\"},\"baxis\":{\"gridcolor\":\"white\",\"linecolor\":\"white\",\"ticks\":\"\"},\"bgcolor\":\"#E5ECF6\",\"caxis\":{\"gridcolor\":\"white\",\"linecolor\":\"white\",\"ticks\":\"\"}},\"title\":{\"x\":0.05},\"xaxis\":{\"automargin\":true,\"gridcolor\":\"white\",\"linecolor\":\"white\",\"ticks\":\"\",\"title\":{\"standoff\":15},\"zerolinecolor\":\"white\",\"zerolinewidth\":2},\"yaxis\":{\"automargin\":true,\"gridcolor\":\"white\",\"linecolor\":\"white\",\"ticks\":\"\",\"title\":{\"standoff\":15},\"zerolinecolor\":\"white\",\"zerolinewidth\":2}}}},                        {\"responsive\": true}                    ).then(function(){\n",
              "                            \n",
              "var gd = document.getElementById('0801d6b0-a7c5-4c17-8460-c3fd18ece3e8');\n",
              "var x = new MutationObserver(function (mutations, observer) {{\n",
              "        var display = window.getComputedStyle(gd).display;\n",
              "        if (!display || display === 'none') {{\n",
              "            console.log([gd, 'removed!']);\n",
              "            Plotly.purge(gd);\n",
              "            observer.disconnect();\n",
              "        }}\n",
              "}});\n",
              "\n",
              "// Listen for the removal of the full notebook cells\n",
              "var notebookContainer = gd.closest('#notebook-container');\n",
              "if (notebookContainer) {{\n",
              "    x.observe(notebookContainer, {childList: true});\n",
              "}}\n",
              "\n",
              "// Listen for the clearing of the current output cell\n",
              "var outputEl = gd.closest('.output');\n",
              "if (outputEl) {{\n",
              "    x.observe(outputEl, {childList: true});\n",
              "}}\n",
              "\n",
              "                        })                };                            </script>        </div>\n",
              "</body>\n",
              "</html>"
            ]
          },
          "metadata": {}
        }
      ],
      "source": [
        "pie_chart(\n",
        "    title=\"Dragon Count by Rarity\",\n",
        "    labels=dragon_rarity_counts.index,\n",
        "    values=dragon_rarity_counts.values,\n",
        ").show()"
      ],
      "metadata": {
        "pycharm": {
          "name": "#%%\n"
        },
        "colab": {
          "base_uri": "https://localhost:8080/",
          "height": 657
        },
        "id": "u27JMXw3Tzj4",
        "outputId": "1fb39f74-ed5b-47e1-bec3-b762fec41e94"
      }
    },
    {
      "cell_type": "code",
      "execution_count": 41,
      "outputs": [],
      "source": [
        ""
      ],
      "metadata": {
        "pycharm": {
          "name": "#%%\n"
        },
        "id": "XDG_WG0_Tzj5"
      }
    }
  ],
  "metadata": {
    "kernelspec": {
      "display_name": "Python 3",
      "language": "python",
      "name": "python3"
    },
    "language_info": {
      "codemirror_mode": {
        "name": "ipython",
        "version": 2
      },
      "file_extension": ".py",
      "mimetype": "text/x-python",
      "name": "python",
      "nbconvert_exporter": "python",
      "pygments_lexer": "ipython2",
      "version": "2.7.6"
    },
    "colab": {
      "name": "Data_Eng_Edits.ipynb",
      "provenance": []
    }
  },
  "nbformat": 4,
  "nbformat_minor": 0
}