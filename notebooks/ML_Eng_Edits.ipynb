{
  "cells": [
    {
      "cell_type": "markdown",
      "source": [
        "# DS Machine Learning Engineer (ML Eng)\n",
        "\n",
        "### _Objectives_\n",
        "- Build scalable machine learning model(s) to drive product requirements. \n",
        "- Understand the big picture when it comes to identifying which machine learning models to use/build and which features to use in the modeling process. \n",
        "- Understand what product and data metrics would be the most important to optimize for and also have a good feel for what levers move those metrics. \n",
        "- Apply a diverse set of tactics including statistics and quantitative reasoning to solve problems as well as research to produce relevant product insights. Strong modeling skills are a plus.\n",
        "\n",
        "### _Foundational Skills_\n",
        "- Solid Understanding of DS Unit 2 and/or 4\n",
        "- Types of models and their use cases\n",
        "- Model Metrics\n",
        "  - Precision vs Accuracy\n",
        "- ETL Pipelines\n",
        "\n",
        "### _Skills to Strengthen_\n",
        "- Build a Scikit Learn Model Interface\n",
        "    - Model Selection (Regression vs Classification)\n",
        "    - Train/Test Split\n",
        "    - Model Training\n",
        "    - Hyperparameter Tuning\n",
        "    - Model Validation\n",
        "    - Performance Evaluation\n",
        "        - Is it small enough and fast enough to make predictions in the cloud?\n",
        "        - Does it train fast enough to do dynamic training in the cloud?\n",
        "- Joblib or Pickle for Model Serialization\n",
        "    - Typically required for deployment when dynamic training isn’t viable\n",
        "    - Dump to save the model to a file\n",
        "    - Load to open the model from a file\n"
      ],
      "metadata": {
        "collapsed": false,
        "id": "dWw7EEsQZmRo"
      }
    },
    {
      "cell_type": "code",
      "source": [
        "# First, let's pip install some dependencies\n",
        "%pip install MonsterLab"
      ],
      "metadata": {
        "colab": {
          "base_uri": "https://localhost:8080/"
        },
        "id": "kibY7sPqiX5h",
        "outputId": "0acb8a21-fe09-4fd7-efb7-91c35eca1911"
      },
      "execution_count": 2,
      "outputs": [
        {
          "output_type": "stream",
          "name": "stdout",
          "text": [
            "Collecting MonsterLab\n",
            "  Downloading MonsterLab-1.2.2-py3-none-any.whl (4.4 kB)\n",
            "Requirement already satisfied: pytz in /usr/local/lib/python3.7/dist-packages (from MonsterLab) (2018.9)\n",
            "Installing collected packages: MonsterLab\n",
            "Successfully installed MonsterLab-1.2.2\n"
          ]
        }
      ]
    },
    {
      "cell_type": "markdown",
      "source": [
        "## ML Modeling Basics\n",
        "Scikit: Random Forest Classifier (RFC) Interface Class: see the `model.py` file in the `machine_learning` package\n"
      ],
      "metadata": {
        "collapsed": false,
        "id": "DZE5q9anZmRt"
      }
    },
    {
      "cell_type": "code",
      "execution_count": 3,
      "outputs": [],
      "source": [
        "from functools import reduce\n",
        "from operator import mul\n",
        "from random import randint\n",
        "\n",
        "import pandas as pd\n",
        "from sklearn.model_selection import train_test_split, RandomizedSearchCV\n",
        "from sklearn.ensemble import RandomForestClassifier\n",
        "import plotly.graph_objects as go\n",
        "import plotly.express as px\n",
        "from MonsterLab import Monster"
      ],
      "metadata": {
        "pycharm": {
          "name": "#%%\n"
        },
        "id": "GO5DPxV8ZmRu"
      }
    },
    {
      "cell_type": "markdown",
      "source": [
        "## Data Schema: MonsterLab, Monster"
      ],
      "metadata": {
        "collapsed": false,
        "id": "aTg-wJzTZmRw"
      }
    },
    {
      "cell_type": "code",
      "execution_count": 4,
      "outputs": [
        {
          "output_type": "execute_result",
          "data": {
            "text/plain": [
              "Name: Lich King\n",
              "Type: Undead\n",
              "Level: 14\n",
              "Rarity: Rank 4\n",
              "Damage: 14d10+1\n",
              "Health: 140.65\n",
              "Energy: 137.81\n",
              "Sanity: 139.52\n",
              "Time Stamp: 2022-04-07 08:00:28"
            ]
          },
          "metadata": {},
          "execution_count": 4
        }
      ],
      "source": [
        "Monster()"
      ],
      "metadata": {
        "pycharm": {
          "name": "#%%\n"
        },
        "colab": {
          "base_uri": "https://localhost:8080/"
        },
        "id": "MvMdw06oZmRx",
        "outputId": "367f4338-2a4a-49d4-e0dd-bebf846aa067"
      }
    },
    {
      "cell_type": "markdown",
      "source": [
        "### Load Data from CSV"
      ],
      "metadata": {
        "collapsed": false,
        "id": "58EXp6b9ZmRy"
      }
    },
    {
      "cell_type": "markdown",
      "source": [
        "We are going to take our `training_data.csv` that was created earlier"
      ],
      "metadata": {
        "id": "Spnfvniqi31v"
      }
    },
    {
      "cell_type": "code",
      "execution_count": 6,
      "outputs": [
        {
          "output_type": "execute_result",
          "data": {
            "text/plain": [
              "     Unnamed: 0                       _id       type           name  level  \\\n",
              "0             0  624efdb801cdd511e4c54b0c   Devilkin       Pit Lord      9   \n",
              "1             1  624efdbc01cdd511e4c54b0d     Undead  Ghostly Guard      4   \n",
              "2             2  624efdbc01cdd511e4c54b0e     Dragon  Faerie Dragon      6   \n",
              "3             3  624efdbc01cdd511e4c54b0f  Elemental         Djinni     15   \n",
              "4             4  624efdbc01cdd511e4c54b10    Demonic      Nightmare      4   \n",
              "..          ...                       ...        ...            ...    ...   \n",
              "995         995  624efdbc01cdd511e4c54eef    Demonic      Pit Fiend      5   \n",
              "996         996  624efdbc01cdd511e4c54ef0     Dragon    White Drake      4   \n",
              "997         997  624efdbc01cdd511e4c54ef1   Devilkin       Succubus     11   \n",
              "998         998  624efdbc01cdd511e4c54ef2    Demonic      Nightmare      9   \n",
              "999         999  624efdbc01cdd511e4c54ef3        Fey   Smoke Spirit     11   \n",
              "\n",
              "     rarity  damage           time_stamp  health  energy  sanity  \n",
              "0    Rank 1   9d4+1  2022-04-07 08:05:25   37.97   37.21   35.90  \n",
              "1    Rank 0   4d2+2  2022-04-07 08:05:32    7.63    8.61    8.52  \n",
              "2    Rank 0     6d2  2022-04-07 08:05:32   11.27   12.99   12.13  \n",
              "3    Rank 0  15d2+1  2022-04-07 08:05:32   30.02   30.61   29.30  \n",
              "4    Rank 1   4d4+1  2022-04-07 08:05:32   16.67   15.89   14.85  \n",
              "..      ...     ...                  ...     ...     ...     ...  \n",
              "995  Rank 2   5d6+2  2022-04-07 08:05:32   28.30   32.55   28.76  \n",
              "996  Rank 1   4d4+3  2022-04-07 08:05:32   16.75   16.39   16.97  \n",
              "997  Rank 0    11d2  2022-04-07 08:05:32   22.44   21.80   21.66  \n",
              "998  Rank 4  9d10+2  2022-04-07 08:05:32   89.32   87.61   86.24  \n",
              "999  Rank 2    11d6  2022-04-07 08:05:32   63.12   66.10   66.85  \n",
              "\n",
              "[1000 rows x 11 columns]"
            ],
            "text/html": [
              "\n",
              "  <div id=\"df-98935587-559e-4606-8d31-bd7d6ebd5290\">\n",
              "    <div class=\"colab-df-container\">\n",
              "      <div>\n",
              "<style scoped>\n",
              "    .dataframe tbody tr th:only-of-type {\n",
              "        vertical-align: middle;\n",
              "    }\n",
              "\n",
              "    .dataframe tbody tr th {\n",
              "        vertical-align: top;\n",
              "    }\n",
              "\n",
              "    .dataframe thead th {\n",
              "        text-align: right;\n",
              "    }\n",
              "</style>\n",
              "<table border=\"1\" class=\"dataframe\">\n",
              "  <thead>\n",
              "    <tr style=\"text-align: right;\">\n",
              "      <th></th>\n",
              "      <th>Unnamed: 0</th>\n",
              "      <th>_id</th>\n",
              "      <th>type</th>\n",
              "      <th>name</th>\n",
              "      <th>level</th>\n",
              "      <th>rarity</th>\n",
              "      <th>damage</th>\n",
              "      <th>time_stamp</th>\n",
              "      <th>health</th>\n",
              "      <th>energy</th>\n",
              "      <th>sanity</th>\n",
              "    </tr>\n",
              "  </thead>\n",
              "  <tbody>\n",
              "    <tr>\n",
              "      <th>0</th>\n",
              "      <td>0</td>\n",
              "      <td>624efdb801cdd511e4c54b0c</td>\n",
              "      <td>Devilkin</td>\n",
              "      <td>Pit Lord</td>\n",
              "      <td>9</td>\n",
              "      <td>Rank 1</td>\n",
              "      <td>9d4+1</td>\n",
              "      <td>2022-04-07 08:05:25</td>\n",
              "      <td>37.97</td>\n",
              "      <td>37.21</td>\n",
              "      <td>35.90</td>\n",
              "    </tr>\n",
              "    <tr>\n",
              "      <th>1</th>\n",
              "      <td>1</td>\n",
              "      <td>624efdbc01cdd511e4c54b0d</td>\n",
              "      <td>Undead</td>\n",
              "      <td>Ghostly Guard</td>\n",
              "      <td>4</td>\n",
              "      <td>Rank 0</td>\n",
              "      <td>4d2+2</td>\n",
              "      <td>2022-04-07 08:05:32</td>\n",
              "      <td>7.63</td>\n",
              "      <td>8.61</td>\n",
              "      <td>8.52</td>\n",
              "    </tr>\n",
              "    <tr>\n",
              "      <th>2</th>\n",
              "      <td>2</td>\n",
              "      <td>624efdbc01cdd511e4c54b0e</td>\n",
              "      <td>Dragon</td>\n",
              "      <td>Faerie Dragon</td>\n",
              "      <td>6</td>\n",
              "      <td>Rank 0</td>\n",
              "      <td>6d2</td>\n",
              "      <td>2022-04-07 08:05:32</td>\n",
              "      <td>11.27</td>\n",
              "      <td>12.99</td>\n",
              "      <td>12.13</td>\n",
              "    </tr>\n",
              "    <tr>\n",
              "      <th>3</th>\n",
              "      <td>3</td>\n",
              "      <td>624efdbc01cdd511e4c54b0f</td>\n",
              "      <td>Elemental</td>\n",
              "      <td>Djinni</td>\n",
              "      <td>15</td>\n",
              "      <td>Rank 0</td>\n",
              "      <td>15d2+1</td>\n",
              "      <td>2022-04-07 08:05:32</td>\n",
              "      <td>30.02</td>\n",
              "      <td>30.61</td>\n",
              "      <td>29.30</td>\n",
              "    </tr>\n",
              "    <tr>\n",
              "      <th>4</th>\n",
              "      <td>4</td>\n",
              "      <td>624efdbc01cdd511e4c54b10</td>\n",
              "      <td>Demonic</td>\n",
              "      <td>Nightmare</td>\n",
              "      <td>4</td>\n",
              "      <td>Rank 1</td>\n",
              "      <td>4d4+1</td>\n",
              "      <td>2022-04-07 08:05:32</td>\n",
              "      <td>16.67</td>\n",
              "      <td>15.89</td>\n",
              "      <td>14.85</td>\n",
              "    </tr>\n",
              "    <tr>\n",
              "      <th>...</th>\n",
              "      <td>...</td>\n",
              "      <td>...</td>\n",
              "      <td>...</td>\n",
              "      <td>...</td>\n",
              "      <td>...</td>\n",
              "      <td>...</td>\n",
              "      <td>...</td>\n",
              "      <td>...</td>\n",
              "      <td>...</td>\n",
              "      <td>...</td>\n",
              "      <td>...</td>\n",
              "    </tr>\n",
              "    <tr>\n",
              "      <th>995</th>\n",
              "      <td>995</td>\n",
              "      <td>624efdbc01cdd511e4c54eef</td>\n",
              "      <td>Demonic</td>\n",
              "      <td>Pit Fiend</td>\n",
              "      <td>5</td>\n",
              "      <td>Rank 2</td>\n",
              "      <td>5d6+2</td>\n",
              "      <td>2022-04-07 08:05:32</td>\n",
              "      <td>28.30</td>\n",
              "      <td>32.55</td>\n",
              "      <td>28.76</td>\n",
              "    </tr>\n",
              "    <tr>\n",
              "      <th>996</th>\n",
              "      <td>996</td>\n",
              "      <td>624efdbc01cdd511e4c54ef0</td>\n",
              "      <td>Dragon</td>\n",
              "      <td>White Drake</td>\n",
              "      <td>4</td>\n",
              "      <td>Rank 1</td>\n",
              "      <td>4d4+3</td>\n",
              "      <td>2022-04-07 08:05:32</td>\n",
              "      <td>16.75</td>\n",
              "      <td>16.39</td>\n",
              "      <td>16.97</td>\n",
              "    </tr>\n",
              "    <tr>\n",
              "      <th>997</th>\n",
              "      <td>997</td>\n",
              "      <td>624efdbc01cdd511e4c54ef1</td>\n",
              "      <td>Devilkin</td>\n",
              "      <td>Succubus</td>\n",
              "      <td>11</td>\n",
              "      <td>Rank 0</td>\n",
              "      <td>11d2</td>\n",
              "      <td>2022-04-07 08:05:32</td>\n",
              "      <td>22.44</td>\n",
              "      <td>21.80</td>\n",
              "      <td>21.66</td>\n",
              "    </tr>\n",
              "    <tr>\n",
              "      <th>998</th>\n",
              "      <td>998</td>\n",
              "      <td>624efdbc01cdd511e4c54ef2</td>\n",
              "      <td>Demonic</td>\n",
              "      <td>Nightmare</td>\n",
              "      <td>9</td>\n",
              "      <td>Rank 4</td>\n",
              "      <td>9d10+2</td>\n",
              "      <td>2022-04-07 08:05:32</td>\n",
              "      <td>89.32</td>\n",
              "      <td>87.61</td>\n",
              "      <td>86.24</td>\n",
              "    </tr>\n",
              "    <tr>\n",
              "      <th>999</th>\n",
              "      <td>999</td>\n",
              "      <td>624efdbc01cdd511e4c54ef3</td>\n",
              "      <td>Fey</td>\n",
              "      <td>Smoke Spirit</td>\n",
              "      <td>11</td>\n",
              "      <td>Rank 2</td>\n",
              "      <td>11d6</td>\n",
              "      <td>2022-04-07 08:05:32</td>\n",
              "      <td>63.12</td>\n",
              "      <td>66.10</td>\n",
              "      <td>66.85</td>\n",
              "    </tr>\n",
              "  </tbody>\n",
              "</table>\n",
              "<p>1000 rows × 11 columns</p>\n",
              "</div>\n",
              "      <button class=\"colab-df-convert\" onclick=\"convertToInteractive('df-98935587-559e-4606-8d31-bd7d6ebd5290')\"\n",
              "              title=\"Convert this dataframe to an interactive table.\"\n",
              "              style=\"display:none;\">\n",
              "        \n",
              "  <svg xmlns=\"http://www.w3.org/2000/svg\" height=\"24px\"viewBox=\"0 0 24 24\"\n",
              "       width=\"24px\">\n",
              "    <path d=\"M0 0h24v24H0V0z\" fill=\"none\"/>\n",
              "    <path d=\"M18.56 5.44l.94 2.06.94-2.06 2.06-.94-2.06-.94-.94-2.06-.94 2.06-2.06.94zm-11 1L8.5 8.5l.94-2.06 2.06-.94-2.06-.94L8.5 2.5l-.94 2.06-2.06.94zm10 10l.94 2.06.94-2.06 2.06-.94-2.06-.94-.94-2.06-.94 2.06-2.06.94z\"/><path d=\"M17.41 7.96l-1.37-1.37c-.4-.4-.92-.59-1.43-.59-.52 0-1.04.2-1.43.59L10.3 9.45l-7.72 7.72c-.78.78-.78 2.05 0 2.83L4 21.41c.39.39.9.59 1.41.59.51 0 1.02-.2 1.41-.59l7.78-7.78 2.81-2.81c.8-.78.8-2.07 0-2.86zM5.41 20L4 18.59l7.72-7.72 1.47 1.35L5.41 20z\"/>\n",
              "  </svg>\n",
              "      </button>\n",
              "      \n",
              "  <style>\n",
              "    .colab-df-container {\n",
              "      display:flex;\n",
              "      flex-wrap:wrap;\n",
              "      gap: 12px;\n",
              "    }\n",
              "\n",
              "    .colab-df-convert {\n",
              "      background-color: #E8F0FE;\n",
              "      border: none;\n",
              "      border-radius: 50%;\n",
              "      cursor: pointer;\n",
              "      display: none;\n",
              "      fill: #1967D2;\n",
              "      height: 32px;\n",
              "      padding: 0 0 0 0;\n",
              "      width: 32px;\n",
              "    }\n",
              "\n",
              "    .colab-df-convert:hover {\n",
              "      background-color: #E2EBFA;\n",
              "      box-shadow: 0px 1px 2px rgba(60, 64, 67, 0.3), 0px 1px 3px 1px rgba(60, 64, 67, 0.15);\n",
              "      fill: #174EA6;\n",
              "    }\n",
              "\n",
              "    [theme=dark] .colab-df-convert {\n",
              "      background-color: #3B4455;\n",
              "      fill: #D2E3FC;\n",
              "    }\n",
              "\n",
              "    [theme=dark] .colab-df-convert:hover {\n",
              "      background-color: #434B5C;\n",
              "      box-shadow: 0px 1px 3px 1px rgba(0, 0, 0, 0.15);\n",
              "      filter: drop-shadow(0px 1px 2px rgba(0, 0, 0, 0.3));\n",
              "      fill: #FFFFFF;\n",
              "    }\n",
              "  </style>\n",
              "\n",
              "      <script>\n",
              "        const buttonEl =\n",
              "          document.querySelector('#df-98935587-559e-4606-8d31-bd7d6ebd5290 button.colab-df-convert');\n",
              "        buttonEl.style.display =\n",
              "          google.colab.kernel.accessAllowed ? 'block' : 'none';\n",
              "\n",
              "        async function convertToInteractive(key) {\n",
              "          const element = document.querySelector('#df-98935587-559e-4606-8d31-bd7d6ebd5290');\n",
              "          const dataTable =\n",
              "            await google.colab.kernel.invokeFunction('convertToInteractive',\n",
              "                                                     [key], {});\n",
              "          if (!dataTable) return;\n",
              "\n",
              "          const docLinkHtml = 'Like what you see? Visit the ' +\n",
              "            '<a target=\"_blank\" href=https://colab.research.google.com/notebooks/data_table.ipynb>data table notebook</a>'\n",
              "            + ' to learn more about interactive tables.';\n",
              "          element.innerHTML = '';\n",
              "          dataTable['output_type'] = 'display_data';\n",
              "          await google.colab.output.renderOutput(dataTable, element);\n",
              "          const docLink = document.createElement('div');\n",
              "          docLink.innerHTML = docLinkHtml;\n",
              "          element.appendChild(docLink);\n",
              "        }\n",
              "      </script>\n",
              "    </div>\n",
              "  </div>\n",
              "  "
            ]
          },
          "metadata": {},
          "execution_count": 6
        }
      ],
      "source": [
        "# Create a CSV and put it on Github and use a URL? \n",
        "df = pd.read_csv(\"training_data.csv\")\n",
        "df"
      ],
      "metadata": {
        "pycharm": {
          "name": "#%%\n"
        },
        "colab": {
          "base_uri": "https://localhost:8080/",
          "height": 658
        },
        "id": "uQq4l6H8ZmRz",
        "outputId": "d6c41ee2-999b-419e-8a5b-b98414ccb77b"
      }
    },
    {
      "cell_type": "markdown",
      "source": [
        "## Target & Features"
      ],
      "metadata": {
        "collapsed": false,
        "id": "q8FAhjcTZmSM"
      }
    },
    {
      "cell_type": "code",
      "execution_count": 7,
      "outputs": [],
      "source": [
        "target = \"rarity\"\n",
        "features = [\"level\", \"health\", \"energy\", \"sanity\"]"
      ],
      "metadata": {
        "pycharm": {
          "name": "#%%\n"
        },
        "id": "5oL-EwKyZmSN"
      }
    },
    {
      "cell_type": "markdown",
      "source": [
        "## Hyperparameter Tuning"
      ],
      "metadata": {
        "collapsed": false,
        "id": "_U1q9FkoZmSO"
      }
    },
    {
      "cell_type": "markdown",
      "source": [
        "### Random Seed"
      ],
      "metadata": {
        "collapsed": false,
        "id": "534AxfJCZmSP"
      }
    },
    {
      "cell_type": "code",
      "execution_count": 8,
      "outputs": [],
      "source": [
        "# random_seed = randint(123456789, 987654321)\n",
        "random_seed = 831592708"
      ],
      "metadata": {
        "pycharm": {
          "name": "#%%\n"
        },
        "id": "l0r-im3-ZmSQ"
      }
    },
    {
      "cell_type": "markdown",
      "source": [
        "### Train/Test Split"
      ],
      "metadata": {
        "collapsed": false,
        "id": "qOa5DNivZmSQ"
      }
    },
    {
      "cell_type": "code",
      "execution_count": 9,
      "outputs": [],
      "source": [
        "X_train, X_test, y_train, y_test = train_test_split(\n",
        "    df[features],\n",
        "    df[target],\n",
        "    test_size=0.20,\n",
        "    random_state=random_seed,\n",
        "    stratify=df[target],\n",
        ")"
      ],
      "metadata": {
        "pycharm": {
          "name": "#%%\n"
        },
        "id": "HuQi29E7ZmSR"
      }
    },
    {
      "cell_type": "markdown",
      "source": [
        "### Parameters"
      ],
      "metadata": {
        "collapsed": false,
        "id": "a1qfZPLeZmSS"
      }
    },
    {
      "cell_type": "code",
      "execution_count": 10,
      "outputs": [],
      "source": [
        "param_dist = {\n",
        "    \"criterion\": (\"gini\", \"entropy\"),\n",
        "    \"max_depth\": (9, 10, 11),\n",
        "    \"max_features\": (2, 3, 4),\n",
        "    \"n_estimators\": (33, 66, 99),\n",
        "}"
      ],
      "metadata": {
        "pycharm": {
          "name": "#%%\n"
        },
        "id": "966lgRcQZmSS"
      }
    },
    {
      "cell_type": "markdown",
      "source": [
        "### Calculate the number of parameter combinations\n",
        "Setting the `n_iter` parameter to the total number of combinations is equivalent to using GridSearchCV."
      ],
      "metadata": {
        "collapsed": false,
        "id": "sjFkMXxbZmST"
      }
    },
    {
      "cell_type": "code",
      "execution_count": 11,
      "outputs": [],
      "source": [
        "n_iter = reduce(mul, map(len, param_dist.values()))"
      ],
      "metadata": {
        "pycharm": {
          "name": "#%%\n"
        },
        "id": "o34SQZFCZmST"
      }
    },
    {
      "cell_type": "markdown",
      "source": [
        "### RandomizedSearchCV"
      ],
      "metadata": {
        "collapsed": false,
        "id": "YZ2wP4wkZmSU"
      }
    },
    {
      "cell_type": "code",
      "execution_count": 12,
      "metadata": {
        "collapsed": true,
        "colab": {
          "base_uri": "https://localhost:8080/"
        },
        "id": "PVvssKVPZmSU",
        "outputId": "dba8dc3c-437a-4353-abcf-6a80c9443ef7"
      },
      "outputs": [
        {
          "output_type": "execute_result",
          "data": {
            "text/plain": [
              "RandomizedSearchCV(cv=5,\n",
              "                   estimator=RandomForestClassifier(random_state=831592708),\n",
              "                   n_iter=54, n_jobs=-1,\n",
              "                   param_distributions={'criterion': ('gini', 'entropy'),\n",
              "                                        'max_depth': (9, 10, 11),\n",
              "                                        'max_features': (2, 3, 4),\n",
              "                                        'n_estimators': (33, 66, 99)},\n",
              "                   random_state=831592708)"
            ]
          },
          "metadata": {},
          "execution_count": 12
        }
      ],
      "source": [
        "search = RandomizedSearchCV(\n",
        "    RandomForestClassifier(random_state=random_seed),\n",
        "    param_distributions=param_dist,\n",
        "    n_iter=n_iter,\n",
        "    n_jobs=-1,\n",
        "    cv=5,\n",
        "    random_state=random_seed,\n",
        ")\n",
        "search.fit(X_train, y_train)"
      ]
    },
    {
      "cell_type": "markdown",
      "source": [
        "## Best Model"
      ],
      "metadata": {
        "collapsed": false,
        "id": "b7V-HBVSZmSU"
      }
    },
    {
      "cell_type": "code",
      "execution_count": 13,
      "outputs": [
        {
          "output_type": "execute_result",
          "data": {
            "text/plain": [
              "RandomForestClassifier(max_depth=9, max_features=3, n_estimators=99,\n",
              "                       random_state=831592708)"
            ]
          },
          "metadata": {},
          "execution_count": 13
        }
      ],
      "source": [
        "search.best_estimator_"
      ],
      "metadata": {
        "pycharm": {
          "name": "#%%\n"
        },
        "colab": {
          "base_uri": "https://localhost:8080/"
        },
        "id": "6KI3wdzHZmSV",
        "outputId": "d8a6ad64-e1b3-4dde-987d-8e3482e298b1"
      }
    },
    {
      "cell_type": "markdown",
      "source": [
        "## Train Score"
      ],
      "metadata": {
        "collapsed": false,
        "id": "9c9PLcbjZmSV"
      }
    },
    {
      "cell_type": "code",
      "execution_count": 14,
      "outputs": [
        {
          "output_type": "execute_result",
          "data": {
            "text/plain": [
              "0.95"
            ]
          },
          "metadata": {},
          "execution_count": 14
        }
      ],
      "source": [
        "search.best_score_"
      ],
      "metadata": {
        "pycharm": {
          "name": "#%%\n"
        },
        "colab": {
          "base_uri": "https://localhost:8080/"
        },
        "id": "awjhZe0kZmSV",
        "outputId": "f6585eb1-6c69-4909-d4a4-6762bf4310b2"
      }
    },
    {
      "cell_type": "markdown",
      "source": [
        "## Test Score"
      ],
      "metadata": {
        "collapsed": false,
        "id": "ahCese2vZmSV"
      }
    },
    {
      "cell_type": "code",
      "execution_count": 15,
      "outputs": [
        {
          "output_type": "execute_result",
          "data": {
            "text/plain": [
              "0.955"
            ]
          },
          "metadata": {},
          "execution_count": 15
        }
      ],
      "source": [
        "search.score(X_test, y_test)"
      ],
      "metadata": {
        "pycharm": {
          "name": "#%%\n"
        },
        "colab": {
          "base_uri": "https://localhost:8080/"
        },
        "id": "f5hEg1iDZmSW",
        "outputId": "0073f3bb-eae0-4306-d7d2-045b6f2aa6b3"
      }
    },
    {
      "cell_type": "markdown",
      "source": [
        "## Feature Importances Graph"
      ],
      "metadata": {
        "collapsed": false,
        "id": "emu-4eo3ZmSW"
      }
    },
    {
      "cell_type": "code",
      "execution_count": 16,
      "outputs": [
        {
          "output_type": "display_data",
          "data": {
            "text/html": [
              "<html>\n",
              "<head><meta charset=\"utf-8\" /></head>\n",
              "<body>\n",
              "    <div>            <script src=\"https://cdnjs.cloudflare.com/ajax/libs/mathjax/2.7.5/MathJax.js?config=TeX-AMS-MML_SVG\"></script><script type=\"text/javascript\">if (window.MathJax) {MathJax.Hub.Config({SVG: {font: \"STIX-Web\"}});}</script>                <script type=\"text/javascript\">window.PlotlyConfig = {MathJaxConfig: 'local'};</script>\n",
              "        <script src=\"https://cdn.plot.ly/plotly-2.8.3.min.js\"></script>                <div id=\"f202a622-f6be-42fe-82aa-f811bed152fd\" class=\"plotly-graph-div\" style=\"height:700px; width:770px;\"></div>            <script type=\"text/javascript\">                                    window.PLOTLYENV=window.PLOTLYENV || {};                                    if (document.getElementById(\"f202a622-f6be-42fe-82aa-f811bed152fd\")) {                    Plotly.newPlot(                        \"f202a622-f6be-42fe-82aa-f811bed152fd\",                        [{\"hole\":0.5,\"hoverinfo\":\"value\",\"labels\":[\"level\",\"health\",\"energy\",\"sanity\"],\"showlegend\":false,\"textfont\":{\"size\":14},\"textinfo\":\"percent+label\",\"values\":[0.44985282605962834,0.20162137623138704,0.18885181487252028,0.15967398283646428],\"type\":\"pie\"}],                        {\"colorway\":[\"rgb(133, 92, 117)\",\"rgb(217, 175, 107)\",\"rgb(175, 100, 88)\",\"rgb(115, 111, 76)\",\"rgb(82, 106, 131)\",\"rgb(98, 83, 119)\",\"rgb(104, 133, 92)\",\"rgb(156, 156, 94)\",\"rgb(160, 97, 119)\",\"rgb(140, 120, 93)\",\"rgb(124, 124, 124)\"],\"height\":700,\"paper_bgcolor\":\"#333333\",\"title\":{\"font\":{\"color\":\"white\",\"size\":24},\"text\":\"Feature Importances\"},\"width\":770,\"template\":{\"data\":{\"bar\":[{\"error_x\":{\"color\":\"#2a3f5f\"},\"error_y\":{\"color\":\"#2a3f5f\"},\"marker\":{\"line\":{\"color\":\"#E5ECF6\",\"width\":0.5},\"pattern\":{\"fillmode\":\"overlay\",\"size\":10,\"solidity\":0.2}},\"type\":\"bar\"}],\"barpolar\":[{\"marker\":{\"line\":{\"color\":\"#E5ECF6\",\"width\":0.5},\"pattern\":{\"fillmode\":\"overlay\",\"size\":10,\"solidity\":0.2}},\"type\":\"barpolar\"}],\"carpet\":[{\"aaxis\":{\"endlinecolor\":\"#2a3f5f\",\"gridcolor\":\"white\",\"linecolor\":\"white\",\"minorgridcolor\":\"white\",\"startlinecolor\":\"#2a3f5f\"},\"baxis\":{\"endlinecolor\":\"#2a3f5f\",\"gridcolor\":\"white\",\"linecolor\":\"white\",\"minorgridcolor\":\"white\",\"startlinecolor\":\"#2a3f5f\"},\"type\":\"carpet\"}],\"choropleth\":[{\"colorbar\":{\"outlinewidth\":0,\"ticks\":\"\"},\"type\":\"choropleth\"}],\"contour\":[{\"colorbar\":{\"outlinewidth\":0,\"ticks\":\"\"},\"colorscale\":[[0.0,\"#0d0887\"],[0.1111111111111111,\"#46039f\"],[0.2222222222222222,\"#7201a8\"],[0.3333333333333333,\"#9c179e\"],[0.4444444444444444,\"#bd3786\"],[0.5555555555555556,\"#d8576b\"],[0.6666666666666666,\"#ed7953\"],[0.7777777777777778,\"#fb9f3a\"],[0.8888888888888888,\"#fdca26\"],[1.0,\"#f0f921\"]],\"type\":\"contour\"}],\"contourcarpet\":[{\"colorbar\":{\"outlinewidth\":0,\"ticks\":\"\"},\"type\":\"contourcarpet\"}],\"heatmap\":[{\"colorbar\":{\"outlinewidth\":0,\"ticks\":\"\"},\"colorscale\":[[0.0,\"#0d0887\"],[0.1111111111111111,\"#46039f\"],[0.2222222222222222,\"#7201a8\"],[0.3333333333333333,\"#9c179e\"],[0.4444444444444444,\"#bd3786\"],[0.5555555555555556,\"#d8576b\"],[0.6666666666666666,\"#ed7953\"],[0.7777777777777778,\"#fb9f3a\"],[0.8888888888888888,\"#fdca26\"],[1.0,\"#f0f921\"]],\"type\":\"heatmap\"}],\"heatmapgl\":[{\"colorbar\":{\"outlinewidth\":0,\"ticks\":\"\"},\"colorscale\":[[0.0,\"#0d0887\"],[0.1111111111111111,\"#46039f\"],[0.2222222222222222,\"#7201a8\"],[0.3333333333333333,\"#9c179e\"],[0.4444444444444444,\"#bd3786\"],[0.5555555555555556,\"#d8576b\"],[0.6666666666666666,\"#ed7953\"],[0.7777777777777778,\"#fb9f3a\"],[0.8888888888888888,\"#fdca26\"],[1.0,\"#f0f921\"]],\"type\":\"heatmapgl\"}],\"histogram\":[{\"marker\":{\"pattern\":{\"fillmode\":\"overlay\",\"size\":10,\"solidity\":0.2}},\"type\":\"histogram\"}],\"histogram2d\":[{\"colorbar\":{\"outlinewidth\":0,\"ticks\":\"\"},\"colorscale\":[[0.0,\"#0d0887\"],[0.1111111111111111,\"#46039f\"],[0.2222222222222222,\"#7201a8\"],[0.3333333333333333,\"#9c179e\"],[0.4444444444444444,\"#bd3786\"],[0.5555555555555556,\"#d8576b\"],[0.6666666666666666,\"#ed7953\"],[0.7777777777777778,\"#fb9f3a\"],[0.8888888888888888,\"#fdca26\"],[1.0,\"#f0f921\"]],\"type\":\"histogram2d\"}],\"histogram2dcontour\":[{\"colorbar\":{\"outlinewidth\":0,\"ticks\":\"\"},\"colorscale\":[[0.0,\"#0d0887\"],[0.1111111111111111,\"#46039f\"],[0.2222222222222222,\"#7201a8\"],[0.3333333333333333,\"#9c179e\"],[0.4444444444444444,\"#bd3786\"],[0.5555555555555556,\"#d8576b\"],[0.6666666666666666,\"#ed7953\"],[0.7777777777777778,\"#fb9f3a\"],[0.8888888888888888,\"#fdca26\"],[1.0,\"#f0f921\"]],\"type\":\"histogram2dcontour\"}],\"mesh3d\":[{\"colorbar\":{\"outlinewidth\":0,\"ticks\":\"\"},\"type\":\"mesh3d\"}],\"parcoords\":[{\"line\":{\"colorbar\":{\"outlinewidth\":0,\"ticks\":\"\"}},\"type\":\"parcoords\"}],\"pie\":[{\"automargin\":true,\"type\":\"pie\"}],\"scatter\":[{\"marker\":{\"colorbar\":{\"outlinewidth\":0,\"ticks\":\"\"}},\"type\":\"scatter\"}],\"scatter3d\":[{\"line\":{\"colorbar\":{\"outlinewidth\":0,\"ticks\":\"\"}},\"marker\":{\"colorbar\":{\"outlinewidth\":0,\"ticks\":\"\"}},\"type\":\"scatter3d\"}],\"scattercarpet\":[{\"marker\":{\"colorbar\":{\"outlinewidth\":0,\"ticks\":\"\"}},\"type\":\"scattercarpet\"}],\"scattergeo\":[{\"marker\":{\"colorbar\":{\"outlinewidth\":0,\"ticks\":\"\"}},\"type\":\"scattergeo\"}],\"scattergl\":[{\"marker\":{\"colorbar\":{\"outlinewidth\":0,\"ticks\":\"\"}},\"type\":\"scattergl\"}],\"scattermapbox\":[{\"marker\":{\"colorbar\":{\"outlinewidth\":0,\"ticks\":\"\"}},\"type\":\"scattermapbox\"}],\"scatterpolar\":[{\"marker\":{\"colorbar\":{\"outlinewidth\":0,\"ticks\":\"\"}},\"type\":\"scatterpolar\"}],\"scatterpolargl\":[{\"marker\":{\"colorbar\":{\"outlinewidth\":0,\"ticks\":\"\"}},\"type\":\"scatterpolargl\"}],\"scatterternary\":[{\"marker\":{\"colorbar\":{\"outlinewidth\":0,\"ticks\":\"\"}},\"type\":\"scatterternary\"}],\"surface\":[{\"colorbar\":{\"outlinewidth\":0,\"ticks\":\"\"},\"colorscale\":[[0.0,\"#0d0887\"],[0.1111111111111111,\"#46039f\"],[0.2222222222222222,\"#7201a8\"],[0.3333333333333333,\"#9c179e\"],[0.4444444444444444,\"#bd3786\"],[0.5555555555555556,\"#d8576b\"],[0.6666666666666666,\"#ed7953\"],[0.7777777777777778,\"#fb9f3a\"],[0.8888888888888888,\"#fdca26\"],[1.0,\"#f0f921\"]],\"type\":\"surface\"}],\"table\":[{\"cells\":{\"fill\":{\"color\":\"#EBF0F8\"},\"line\":{\"color\":\"white\"}},\"header\":{\"fill\":{\"color\":\"#C8D4E3\"},\"line\":{\"color\":\"white\"}},\"type\":\"table\"}]},\"layout\":{\"annotationdefaults\":{\"arrowcolor\":\"#2a3f5f\",\"arrowhead\":0,\"arrowwidth\":1},\"autotypenumbers\":\"strict\",\"coloraxis\":{\"colorbar\":{\"outlinewidth\":0,\"ticks\":\"\"}},\"colorscale\":{\"diverging\":[[0,\"#8e0152\"],[0.1,\"#c51b7d\"],[0.2,\"#de77ae\"],[0.3,\"#f1b6da\"],[0.4,\"#fde0ef\"],[0.5,\"#f7f7f7\"],[0.6,\"#e6f5d0\"],[0.7,\"#b8e186\"],[0.8,\"#7fbc41\"],[0.9,\"#4d9221\"],[1,\"#276419\"]],\"sequential\":[[0.0,\"#0d0887\"],[0.1111111111111111,\"#46039f\"],[0.2222222222222222,\"#7201a8\"],[0.3333333333333333,\"#9c179e\"],[0.4444444444444444,\"#bd3786\"],[0.5555555555555556,\"#d8576b\"],[0.6666666666666666,\"#ed7953\"],[0.7777777777777778,\"#fb9f3a\"],[0.8888888888888888,\"#fdca26\"],[1.0,\"#f0f921\"]],\"sequentialminus\":[[0.0,\"#0d0887\"],[0.1111111111111111,\"#46039f\"],[0.2222222222222222,\"#7201a8\"],[0.3333333333333333,\"#9c179e\"],[0.4444444444444444,\"#bd3786\"],[0.5555555555555556,\"#d8576b\"],[0.6666666666666666,\"#ed7953\"],[0.7777777777777778,\"#fb9f3a\"],[0.8888888888888888,\"#fdca26\"],[1.0,\"#f0f921\"]]},\"colorway\":[\"#636efa\",\"#EF553B\",\"#00cc96\",\"#ab63fa\",\"#FFA15A\",\"#19d3f3\",\"#FF6692\",\"#B6E880\",\"#FF97FF\",\"#FECB52\"],\"font\":{\"color\":\"#2a3f5f\"},\"geo\":{\"bgcolor\":\"white\",\"lakecolor\":\"white\",\"landcolor\":\"#E5ECF6\",\"showlakes\":true,\"showland\":true,\"subunitcolor\":\"white\"},\"hoverlabel\":{\"align\":\"left\"},\"hovermode\":\"closest\",\"mapbox\":{\"style\":\"light\"},\"paper_bgcolor\":\"white\",\"plot_bgcolor\":\"#E5ECF6\",\"polar\":{\"angularaxis\":{\"gridcolor\":\"white\",\"linecolor\":\"white\",\"ticks\":\"\"},\"bgcolor\":\"#E5ECF6\",\"radialaxis\":{\"gridcolor\":\"white\",\"linecolor\":\"white\",\"ticks\":\"\"}},\"scene\":{\"xaxis\":{\"backgroundcolor\":\"#E5ECF6\",\"gridcolor\":\"white\",\"gridwidth\":2,\"linecolor\":\"white\",\"showbackground\":true,\"ticks\":\"\",\"zerolinecolor\":\"white\"},\"yaxis\":{\"backgroundcolor\":\"#E5ECF6\",\"gridcolor\":\"white\",\"gridwidth\":2,\"linecolor\":\"white\",\"showbackground\":true,\"ticks\":\"\",\"zerolinecolor\":\"white\"},\"zaxis\":{\"backgroundcolor\":\"#E5ECF6\",\"gridcolor\":\"white\",\"gridwidth\":2,\"linecolor\":\"white\",\"showbackground\":true,\"ticks\":\"\",\"zerolinecolor\":\"white\"}},\"shapedefaults\":{\"line\":{\"color\":\"#2a3f5f\"}},\"ternary\":{\"aaxis\":{\"gridcolor\":\"white\",\"linecolor\":\"white\",\"ticks\":\"\"},\"baxis\":{\"gridcolor\":\"white\",\"linecolor\":\"white\",\"ticks\":\"\"},\"bgcolor\":\"#E5ECF6\",\"caxis\":{\"gridcolor\":\"white\",\"linecolor\":\"white\",\"ticks\":\"\"}},\"title\":{\"x\":0.05},\"xaxis\":{\"automargin\":true,\"gridcolor\":\"white\",\"linecolor\":\"white\",\"ticks\":\"\",\"title\":{\"standoff\":15},\"zerolinecolor\":\"white\",\"zerolinewidth\":2},\"yaxis\":{\"automargin\":true,\"gridcolor\":\"white\",\"linecolor\":\"white\",\"ticks\":\"\",\"title\":{\"standoff\":15},\"zerolinecolor\":\"white\",\"zerolinewidth\":2}}}},                        {\"responsive\": true}                    ).then(function(){\n",
              "                            \n",
              "var gd = document.getElementById('f202a622-f6be-42fe-82aa-f811bed152fd');\n",
              "var x = new MutationObserver(function (mutations, observer) {{\n",
              "        var display = window.getComputedStyle(gd).display;\n",
              "        if (!display || display === 'none') {{\n",
              "            console.log([gd, 'removed!']);\n",
              "            Plotly.purge(gd);\n",
              "            observer.disconnect();\n",
              "        }}\n",
              "}});\n",
              "\n",
              "// Listen for the removal of the full notebook cells\n",
              "var notebookContainer = gd.closest('#notebook-container');\n",
              "if (notebookContainer) {{\n",
              "    x.observe(notebookContainer, {childList: true});\n",
              "}}\n",
              "\n",
              "// Listen for the clearing of the current output cell\n",
              "var outputEl = gd.closest('.output');\n",
              "if (outputEl) {{\n",
              "    x.observe(outputEl, {childList: true});\n",
              "}}\n",
              "\n",
              "                        })                };                            </script>        </div>\n",
              "</body>\n",
              "</html>"
            ]
          },
          "metadata": {}
        }
      ],
      "source": [
        "data = go.Pie(\n",
        "    labels=search.feature_names_in_.tolist(),\n",
        "    values=search.best_estimator_.feature_importances_.tolist(),\n",
        "    hole=0.5,\n",
        "    showlegend=False,\n",
        "    hoverinfo=\"value\",\n",
        "    textfont={\"size\": 14},\n",
        "    textinfo=\"percent+label\",\n",
        ")\n",
        "\n",
        "layout = go.Layout(\n",
        "    title={\n",
        "        \"text\": \"Feature Importances\",\n",
        "        \"font\": {\"color\": \"white\", \"size\": 24},\n",
        "    },\n",
        "    colorway=px.colors.qualitative.Antique,\n",
        "    height=700,\n",
        "    width=770,\n",
        "    paper_bgcolor=\"#333333\",\n",
        ")\n",
        "\n",
        "figure = go.Figure(data, layout)\n",
        "figure.show()"
      ],
      "metadata": {
        "pycharm": {
          "name": "#%%\n"
        },
        "colab": {
          "base_uri": "https://localhost:8080/",
          "height": 717
        },
        "id": "C04WIk-BZmSW",
        "outputId": "2a3556f3-6366-41a4-fe97-8a206d692be1"
      }
    },
    {
      "cell_type": "code",
      "execution_count": 16,
      "outputs": [],
      "source": [
        ""
      ],
      "metadata": {
        "pycharm": {
          "name": "#%%\n"
        },
        "id": "bvIAdfutZmSW"
      }
    }
  ],
  "metadata": {
    "kernelspec": {
      "display_name": "Python 3",
      "language": "python",
      "name": "python3"
    },
    "language_info": {
      "codemirror_mode": {
        "name": "ipython",
        "version": 2
      },
      "file_extension": ".py",
      "mimetype": "text/x-python",
      "name": "python",
      "nbconvert_exporter": "python",
      "pygments_lexer": "ipython2",
      "version": "2.7.6"
    },
    "colab": {
      "name": "ML_Eng_Edits.ipynb",
      "provenance": []
    }
  },
  "nbformat": 4,
  "nbformat_minor": 0
}